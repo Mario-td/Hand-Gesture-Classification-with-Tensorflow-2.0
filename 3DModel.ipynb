{
  "nbformat": 4,
  "nbformat_minor": 0,
  "metadata": {
    "colab": {
      "name": "3DModel.ipynb",
      "provenance": [],
      "authorship_tag": "ABX9TyOmgOgzl6FfL+2VNDWKTeaE",
      "include_colab_link": true
    },
    "kernelspec": {
      "name": "python3",
      "display_name": "Python 3"
    }
  },
  "cells": [
    {
      "cell_type": "markdown",
      "metadata": {
        "id": "view-in-github",
        "colab_type": "text"
      },
      "source": [
        "<a href=\"https://colab.research.google.com/github/Mario-td/Hand-Gesture-Classification-with-Tensorflow-2.0/blob/master/3DModel.ipynb\" target=\"_parent\"><img src=\"https://colab.research.google.com/assets/colab-badge.svg\" alt=\"Open In Colab\"/></a>"
      ]
    },
    {
      "cell_type": "markdown",
      "metadata": {
        "id": "ZBOaERxKt6jz"
      },
      "source": [
        "# **3D model selection**"
      ]
    },
    {
      "cell_type": "code",
      "metadata": {
        "id": "k-CqOk56o0xL"
      },
      "source": [
        "import numpy as np\n",
        "import pandas as pd\n",
        "from sklearn.model_selection import train_test_split\n",
        "import matplotlib\n",
        "import matplotlib.pyplot as plt\n",
        "import tensorflow as tf\n",
        "import time\n",
        "import datetime\n",
        "from sklearn.metrics import confusion_matrix\n",
        "import seaborn as sns"
      ],
      "execution_count": null,
      "outputs": []
    },
    {
      "cell_type": "code",
      "metadata": {
        "id": "ZiK7HVUbg8WA",
        "outputId": "c085887a-b6b2-4440-89ab-e6dca01c6808",
        "colab": {
          "base_uri": "https://localhost:8080/"
        }
      },
      "source": [
        "from google.colab import drive\n",
        "drive.mount('/content/drive')"
      ],
      "execution_count": null,
      "outputs": [
        {
          "output_type": "stream",
          "text": [
            "Drive already mounted at /content/drive; to attempt to forcibly remount, call drive.mount(\"/content/drive\", force_remount=True).\n"
          ],
          "name": "stdout"
        }
      ]
    },
    {
      "cell_type": "code",
      "metadata": {
        "id": "UzFudcRhtxR3"
      },
      "source": [
        "# Path to the files\n",
        "path = '/content/drive/My Drive/MastersThesis/Dataset/'\n",
        "train3D = pd.read_csv(path + '/TrainingSet3D.csv')\n",
        "test3D = pd.read_csv(path + '/TestSet3D.csv')"
      ],
      "execution_count": null,
      "outputs": []
    },
    {
      "cell_type": "code",
      "metadata": {
        "id": "sVnRoqinhq0F",
        "outputId": "c0d67b06-5d32-4fc0-f4f3-0d7a3ec0e461",
        "colab": {
          "base_uri": "https://localhost:8080/"
        }
      },
      "source": [
        "# Gets the number of frames per sample\n",
        "t_steps = max(test3D['Sequence']) + 1\n",
        "t_steps"
      ],
      "execution_count": null,
      "outputs": [
        {
          "output_type": "execute_result",
          "data": {
            "text/plain": [
              "32"
            ]
          },
          "metadata": {
            "tags": []
          },
          "execution_count": 19
        }
      ]
    },
    {
      "cell_type": "code",
      "metadata": {
        "id": "BSdg6PSbhyXE"
      },
      "source": [
        "# Gets the labels\n",
        "Y_train3D = np.array(train3D['Label'][0::t_steps][:], dtype=np.int32)\n",
        "Y_test3D = np.array(test3D['Label'][0::t_steps][:], dtype=np.int32)"
      ],
      "execution_count": null,
      "outputs": []
    },
    {
      "cell_type": "code",
      "metadata": {
        "id": "X0842ivyhyeL"
      },
      "source": [
        "# Gets the data\n",
        "X_train3D = pd.DataFrame.to_numpy(train3D[train3D.columns[2:]])\n",
        "X_test3D = pd.DataFrame.to_numpy(test3D[test3D.columns[2:]])\n",
        "# Splits into the number of samples\n",
        "X_train3D = np.array(np.split(X_train3D, Y_train3D.size))\n",
        "X_test3D = np.array(np.split(X_test3D, Y_test3D.size))"
      ],
      "execution_count": null,
      "outputs": []
    },
    {
      "cell_type": "code",
      "metadata": {
        "id": "3m2jTkBPhyji"
      },
      "source": [
        "# Splits into training, and validation set\n",
        "X_train3D, X_val3D, Y_train3D, Y_val3D = train_test_split(X_train3D, Y_train3D,\n",
        "                                                test_size=0.1, random_state=42)"
      ],
      "execution_count": null,
      "outputs": []
    },
    {
      "cell_type": "code",
      "metadata": {
        "id": "1NcMIch7mE1M",
        "outputId": "2e446e9e-09cb-4db1-eba2-ce42e2784c5c",
        "colab": {
          "base_uri": "https://localhost:8080/"
        }
      },
      "source": [
        "print('X_train3D shape ' + str(X_train3D.shape))\n",
        "print('Y_train3D shape ' + str(Y_train3D.shape))\n",
        "print('X_val3D shape ' + str(X_val3D.shape))\n",
        "print('Y_val3D shape ' + str(Y_val3D.shape))"
      ],
      "execution_count": null,
      "outputs": [
        {
          "output_type": "stream",
          "text": [
            "X_train3D shape (3137, 32, 63)\n",
            "Y_train3D shape (3137,)\n",
            "X_val3D shape (349, 32, 63)\n",
            "Y_val3D shape (349,)\n"
          ],
          "name": "stdout"
        }
      ]
    },
    {
      "cell_type": "markdown",
      "metadata": {
        "id": "1aXj-yR0igwD"
      },
      "source": [
        "# **Data augmentation**"
      ]
    },
    {
      "cell_type": "code",
      "metadata": {
        "id": "SgyjClybkdn-"
      },
      "source": [
        "def dataAugmentation(X_, Y, c):\n",
        "    X = X_[Y == c]\n",
        "    # Duplicate the samples by inverting the order of the sequence in time\n",
        "    X_inv_t = [X[i][::-1] for i in range(len(X))]\n",
        "    X = np.append(X, X_inv_t, 0)\n",
        "    # Duplicate the samples by inverting the x coordinate\n",
        "    # with respect to the y axis (mirroring)\n",
        "    X_inv_pos = []\n",
        "    for k in range(len(X)):\n",
        "        Xj = []\n",
        "        for j in range(len(X[k])):\n",
        "            Xi = []\n",
        "            for i in range(len(X[k][j])):\n",
        "                if i % 3 == 0:\n",
        "                    Xi.append(abs(X[k][j][i] - 1))\n",
        "                else:\n",
        "                    Xi.append(X[k][j][i])\n",
        "            Xj.append(Xi)\n",
        "        X_inv_pos.append(Xj)\n",
        "    X = np.append(X, X_inv_pos, 0)\n",
        "    X_ = np.append(X_[Y != c], X, 0)\n",
        "    Y = np.append(Y[Y != c], np.ones(len(X)) * c)\n",
        "    return X_, Y"
      ],
      "execution_count": null,
      "outputs": []
    },
    {
      "cell_type": "code",
      "metadata": {
        "id": "gvCD0tbtifqq"
      },
      "source": [
        "# Duplicate samples of class 0 in training, validation and test sets\n",
        "# separately to avoid overfitting mixing samples\n",
        "for c in range(5):\n",
        "    X_train3D, Y_train3D = dataAugmentation(X_train3D, Y_train3D, c)\n",
        "    X_val3D, Y_val3D = dataAugmentation(X_val3D, Y_val3D, c)\n",
        "    X_test3D, Y_test3D = dataAugmentation(X_test3D, Y_test3D, c)"
      ],
      "execution_count": null,
      "outputs": []
    },
    {
      "cell_type": "code",
      "metadata": {
        "id": "eY9GJc1lpI1w",
        "outputId": "2ef08613-6773-458f-f97d-76bc9bd8e09b",
        "colab": {
          "base_uri": "https://localhost:8080/"
        }
      },
      "source": [
        "# Prints the number of samples per class in the training and test set\n",
        "n_classes = 5\n",
        "for i in range(n_classes):\n",
        "    print('train samples %d: ' % i + str(np.count_nonzero(Y_train3D == i)))\n",
        "print('----------------------')\n",
        "for i in range(n_classes):\n",
        "    print('val samples %d: ' % i + str(np.count_nonzero(Y_val3D == i)))\n",
        "print('----------------------')\n",
        "for i in range(n_classes):\n",
        "    print('test samples %d: ' % i + str(np.count_nonzero(Y_test3D == i)))"
      ],
      "execution_count": null,
      "outputs": [
        {
          "output_type": "stream",
          "text": [
            "train samples 0: 2524\n",
            "train samples 1: 2432\n",
            "train samples 2: 2480\n",
            "train samples 3: 2464\n",
            "train samples 4: 2648\n",
            "----------------------\n",
            "val samples 0: 324\n",
            "val samples 1: 276\n",
            "val samples 2: 268\n",
            "val samples 3: 224\n",
            "val samples 4: 304\n",
            "----------------------\n",
            "test samples 0: 288\n",
            "test samples 1: 284\n",
            "test samples 2: 300\n",
            "test samples 3: 288\n",
            "test samples 4: 288\n"
          ],
          "name": "stdout"
        }
      ]
    },
    {
      "cell_type": "code",
      "metadata": {
        "id": "o-wcBdrjxJgg"
      },
      "source": [
        "# Adjusts the label arrays shape\n",
        "Y_train3D = tf.keras.utils.to_categorical(Y_train3D, n_classes)\n",
        "Y_test3D = tf.keras.utils.to_categorical(Y_test3D, n_classes)\n",
        "Y_val3D = tf.keras.utils.to_categorical(Y_val3D, n_classes)"
      ],
      "execution_count": null,
      "outputs": []
    },
    {
      "cell_type": "code",
      "metadata": {
        "id": "ZLDvPtAuxqOw"
      },
      "source": [
        "# Number of input parameters per timestep\n",
        "n_input3D = len(X_train3D[0][0])\n",
        "# Reshapes the input splitting it into subsequences\n",
        "n_sub = 2\n",
        "n_length = int(t_steps / n_sub)\n",
        "X_train3D = X_train3D.reshape((X_train3D.shape[0], n_sub, n_length, n_input3D))\n",
        "X_val3D = X_val3D.reshape((X_val3D.shape[0], n_sub, n_length, n_input3D))\n",
        "X_test3D = X_test3D.reshape((X_test3D.shape[0], n_sub, n_length, n_input3D))"
      ],
      "execution_count": null,
      "outputs": []
    },
    {
      "cell_type": "code",
      "metadata": {
        "id": "xJia3ebAx_-B"
      },
      "source": [
        "# Defines the model\n",
        "model_3D = tf.keras.Sequential()\n",
        "model_3D.add(tf.keras.layers.Conv1D(filters=64, kernel_size=3, activation='relu', input_shape=(n_sub, n_length, n_input3D)))\n",
        "model_3D.add(tf.keras.layers.Conv1D(filters=64, kernel_size=3, activation='relu'))\n",
        "model_3D.add(tf.keras.layers.Dropout(0.2))\n",
        "model_3D.add(tf.keras.layers.TimeDistributed(tf.keras.layers.MaxPooling1D(pool_size=2)))\n",
        "model_3D.add(tf.keras.layers.TimeDistributed(tf.keras.layers.Flatten()))\n",
        "model_3D.add(tf.keras.layers.LSTM(200))\n",
        "model_3D.add(tf.keras.layers.Dropout(0.2))\n",
        "model_3D.add(tf.keras.layers.Dense(n_classes, activation='softmax'))"
      ],
      "execution_count": null,
      "outputs": []
    },
    {
      "cell_type": "markdown",
      "metadata": {
        "id": "pqz0j8d3zgdN"
      },
      "source": [
        "# **Model training**"
      ]
    },
    {
      "cell_type": "code",
      "metadata": {
        "id": "whHo7IXMqghK",
        "outputId": "b9f94ab1-976e-439e-f2fd-cf08c688b0b3",
        "colab": {
          "base_uri": "https://localhost:8080/"
        }
      },
      "source": [
        "# Hyperparameters\n",
        "batch_size = 1024\n",
        "n_epochs = 70\n",
        "opt = tf.keras.optimizers.Adam(learning_rate=0.0011, beta_1=0.9, beta_2=0.999, amsgrad=False)\n",
        "\n",
        "model_3D.compile(loss='categorical_crossentropy', optimizer=opt, metrics=['accuracy'])\n",
        "\n",
        "# Measures the training time\n",
        "t_start = time.time()\n",
        "history = model_3D.fit(X_train3D, Y_train3D, validation_data=(X_val3D, Y_val3D),\n",
        "                       shuffle=True, batch_size=batch_size, epochs=n_epochs)\n",
        "t_stop = time.time()\n",
        "print(\"Training time: \" + str(datetime.timedelta(seconds=t_stop - t_start)))"
      ],
      "execution_count": null,
      "outputs": [
        {
          "output_type": "stream",
          "text": [
            "Epoch 1/70\n",
            "13/13 [==============================] - 3s 229ms/step - loss: 1.5356 - accuracy: 0.3254 - val_loss: 1.3167 - val_accuracy: 0.5466\n",
            "Epoch 2/70\n",
            "13/13 [==============================] - 3s 196ms/step - loss: 1.1060 - accuracy: 0.5763 - val_loss: 0.8436 - val_accuracy: 0.6533\n",
            "Epoch 3/70\n",
            "13/13 [==============================] - 3s 195ms/step - loss: 0.7980 - accuracy: 0.6760 - val_loss: 0.7194 - val_accuracy: 0.7128\n",
            "Epoch 4/70\n",
            "13/13 [==============================] - 3s 195ms/step - loss: 0.6856 - accuracy: 0.7182 - val_loss: 0.6275 - val_accuracy: 0.7600\n",
            "Epoch 5/70\n",
            "13/13 [==============================] - 3s 195ms/step - loss: 0.5994 - accuracy: 0.7771 - val_loss: 0.5575 - val_accuracy: 0.7980\n",
            "Epoch 6/70\n",
            "13/13 [==============================] - 3s 195ms/step - loss: 0.5586 - accuracy: 0.7941 - val_loss: 0.5047 - val_accuracy: 0.8295\n",
            "Epoch 7/70\n",
            "13/13 [==============================] - 3s 195ms/step - loss: 0.5310 - accuracy: 0.7878 - val_loss: 0.4740 - val_accuracy: 0.8560\n",
            "Epoch 8/70\n",
            "13/13 [==============================] - 3s 195ms/step - loss: 0.4429 - accuracy: 0.8388 - val_loss: 0.4215 - val_accuracy: 0.8460\n",
            "Epoch 9/70\n",
            "13/13 [==============================] - 3s 198ms/step - loss: 0.5434 - accuracy: 0.7961 - val_loss: 0.4552 - val_accuracy: 0.8345\n",
            "Epoch 10/70\n",
            "13/13 [==============================] - 3s 194ms/step - loss: 0.4210 - accuracy: 0.8471 - val_loss: 0.4154 - val_accuracy: 0.8403\n",
            "Epoch 11/70\n",
            "13/13 [==============================] - 3s 196ms/step - loss: 0.3762 - accuracy: 0.8599 - val_loss: 0.3688 - val_accuracy: 0.8703\n",
            "Epoch 12/70\n",
            "13/13 [==============================] - 3s 195ms/step - loss: 0.3331 - accuracy: 0.8796 - val_loss: 0.3796 - val_accuracy: 0.8646\n",
            "Epoch 13/70\n",
            "13/13 [==============================] - 3s 195ms/step - loss: 0.2974 - accuracy: 0.8945 - val_loss: 0.3446 - val_accuracy: 0.8761\n",
            "Epoch 14/70\n",
            "13/13 [==============================] - 3s 196ms/step - loss: 0.2919 - accuracy: 0.8909 - val_loss: 0.3301 - val_accuracy: 0.8990\n",
            "Epoch 15/70\n",
            "13/13 [==============================] - 3s 195ms/step - loss: 0.3044 - accuracy: 0.8922 - val_loss: 0.2987 - val_accuracy: 0.9062\n",
            "Epoch 16/70\n",
            "13/13 [==============================] - 3s 195ms/step - loss: 0.3055 - accuracy: 0.8821 - val_loss: 0.3390 - val_accuracy: 0.8567\n",
            "Epoch 17/70\n",
            "13/13 [==============================] - 3s 196ms/step - loss: 0.2638 - accuracy: 0.9056 - val_loss: 0.2578 - val_accuracy: 0.9198\n",
            "Epoch 18/70\n",
            "13/13 [==============================] - 3s 194ms/step - loss: 0.2306 - accuracy: 0.9218 - val_loss: 0.2829 - val_accuracy: 0.8968\n",
            "Epoch 19/70\n",
            "13/13 [==============================] - 3s 195ms/step - loss: 0.2138 - accuracy: 0.9256 - val_loss: 0.2295 - val_accuracy: 0.9262\n",
            "Epoch 20/70\n",
            "13/13 [==============================] - 3s 194ms/step - loss: 0.2400 - accuracy: 0.9103 - val_loss: 0.2781 - val_accuracy: 0.8961\n",
            "Epoch 21/70\n",
            "13/13 [==============================] - 3s 195ms/step - loss: 0.2289 - accuracy: 0.9199 - val_loss: 0.2446 - val_accuracy: 0.9341\n",
            "Epoch 22/70\n",
            "13/13 [==============================] - 3s 194ms/step - loss: 0.1884 - accuracy: 0.9390 - val_loss: 0.1922 - val_accuracy: 0.9362\n",
            "Epoch 23/70\n",
            "13/13 [==============================] - 3s 196ms/step - loss: 0.1580 - accuracy: 0.9488 - val_loss: 0.1874 - val_accuracy: 0.9370\n",
            "Epoch 24/70\n",
            "13/13 [==============================] - 3s 193ms/step - loss: 0.1514 - accuracy: 0.9502 - val_loss: 0.1902 - val_accuracy: 0.9284\n",
            "Epoch 25/70\n",
            "13/13 [==============================] - 3s 196ms/step - loss: 0.1473 - accuracy: 0.9507 - val_loss: 0.1605 - val_accuracy: 0.9527\n",
            "Epoch 26/70\n",
            "13/13 [==============================] - 3s 194ms/step - loss: 0.1683 - accuracy: 0.9386 - val_loss: 0.1988 - val_accuracy: 0.9319\n",
            "Epoch 27/70\n",
            "13/13 [==============================] - 3s 195ms/step - loss: 0.1671 - accuracy: 0.9405 - val_loss: 0.1844 - val_accuracy: 0.9305\n",
            "Epoch 28/70\n",
            "13/13 [==============================] - 3s 195ms/step - loss: 0.1284 - accuracy: 0.9586 - val_loss: 0.1489 - val_accuracy: 0.9585\n",
            "Epoch 29/70\n",
            "13/13 [==============================] - 3s 194ms/step - loss: 0.1354 - accuracy: 0.9553 - val_loss: 0.1447 - val_accuracy: 0.9549\n",
            "Epoch 30/70\n",
            "13/13 [==============================] - 3s 194ms/step - loss: 0.1327 - accuracy: 0.9563 - val_loss: 0.1482 - val_accuracy: 0.9484\n",
            "Epoch 31/70\n",
            "13/13 [==============================] - 3s 196ms/step - loss: 0.1178 - accuracy: 0.9623 - val_loss: 0.1437 - val_accuracy: 0.9456\n",
            "Epoch 32/70\n",
            "13/13 [==============================] - 3s 196ms/step - loss: 0.1015 - accuracy: 0.9675 - val_loss: 0.1693 - val_accuracy: 0.9398\n",
            "Epoch 33/70\n",
            "13/13 [==============================] - 3s 195ms/step - loss: 0.1065 - accuracy: 0.9652 - val_loss: 0.1505 - val_accuracy: 0.9434\n",
            "Epoch 34/70\n",
            "13/13 [==============================] - 3s 194ms/step - loss: 0.1076 - accuracy: 0.9647 - val_loss: 0.1492 - val_accuracy: 0.9477\n",
            "Epoch 35/70\n",
            "13/13 [==============================] - 3s 194ms/step - loss: 0.0914 - accuracy: 0.9708 - val_loss: 0.1077 - val_accuracy: 0.9685\n",
            "Epoch 36/70\n",
            "13/13 [==============================] - 3s 194ms/step - loss: 0.0813 - accuracy: 0.9739 - val_loss: 0.1058 - val_accuracy: 0.9663\n",
            "Epoch 37/70\n",
            "13/13 [==============================] - 3s 194ms/step - loss: 0.0779 - accuracy: 0.9770 - val_loss: 0.0970 - val_accuracy: 0.9785\n",
            "Epoch 38/70\n",
            "13/13 [==============================] - 3s 196ms/step - loss: 0.0703 - accuracy: 0.9793 - val_loss: 0.2131 - val_accuracy: 0.9176\n",
            "Epoch 39/70\n",
            "13/13 [==============================] - 3s 196ms/step - loss: 0.1304 - accuracy: 0.9530 - val_loss: 0.1652 - val_accuracy: 0.9384\n",
            "Epoch 40/70\n",
            "13/13 [==============================] - 3s 194ms/step - loss: 0.0969 - accuracy: 0.9661 - val_loss: 0.1228 - val_accuracy: 0.9620\n",
            "Epoch 41/70\n",
            "13/13 [==============================] - 3s 196ms/step - loss: 0.0709 - accuracy: 0.9787 - val_loss: 0.1147 - val_accuracy: 0.9642\n",
            "Epoch 42/70\n",
            "13/13 [==============================] - 3s 194ms/step - loss: 0.0637 - accuracy: 0.9794 - val_loss: 0.1094 - val_accuracy: 0.9592\n",
            "Epoch 43/70\n",
            "13/13 [==============================] - 3s 195ms/step - loss: 0.0668 - accuracy: 0.9790 - val_loss: 0.0891 - val_accuracy: 0.9756\n",
            "Epoch 44/70\n",
            "13/13 [==============================] - 3s 194ms/step - loss: 0.0682 - accuracy: 0.9778 - val_loss: 0.0747 - val_accuracy: 0.9842\n",
            "Epoch 45/70\n",
            "13/13 [==============================] - 3s 197ms/step - loss: 0.0642 - accuracy: 0.9794 - val_loss: 0.1043 - val_accuracy: 0.9556\n",
            "Epoch 46/70\n",
            "13/13 [==============================] - 3s 200ms/step - loss: 0.0654 - accuracy: 0.9783 - val_loss: 0.0900 - val_accuracy: 0.9735\n",
            "Epoch 47/70\n",
            "13/13 [==============================] - 3s 198ms/step - loss: 0.0537 - accuracy: 0.9835 - val_loss: 0.0919 - val_accuracy: 0.9713\n",
            "Epoch 48/70\n",
            "13/13 [==============================] - 3s 199ms/step - loss: 0.0470 - accuracy: 0.9853 - val_loss: 0.1097 - val_accuracy: 0.9606\n",
            "Epoch 49/70\n",
            "13/13 [==============================] - 3s 198ms/step - loss: 0.0662 - accuracy: 0.9763 - val_loss: 0.0944 - val_accuracy: 0.9649\n",
            "Epoch 50/70\n",
            "13/13 [==============================] - 3s 198ms/step - loss: 0.0714 - accuracy: 0.9749 - val_loss: 0.0842 - val_accuracy: 0.9771\n",
            "Epoch 51/70\n",
            "13/13 [==============================] - 3s 197ms/step - loss: 0.0483 - accuracy: 0.9862 - val_loss: 0.1280 - val_accuracy: 0.9477\n",
            "Epoch 52/70\n",
            "13/13 [==============================] - 3s 197ms/step - loss: 0.0451 - accuracy: 0.9855 - val_loss: 0.0911 - val_accuracy: 0.9606\n",
            "Epoch 53/70\n",
            "13/13 [==============================] - 3s 197ms/step - loss: 0.0403 - accuracy: 0.9875 - val_loss: 0.0955 - val_accuracy: 0.9635\n",
            "Epoch 54/70\n",
            "13/13 [==============================] - 3s 198ms/step - loss: 0.0436 - accuracy: 0.9857 - val_loss: 0.1261 - val_accuracy: 0.9470\n",
            "Epoch 55/70\n",
            "13/13 [==============================] - 3s 197ms/step - loss: 0.0647 - accuracy: 0.9774 - val_loss: 0.0820 - val_accuracy: 0.9649\n",
            "Epoch 56/70\n",
            "13/13 [==============================] - 3s 197ms/step - loss: 0.0454 - accuracy: 0.9858 - val_loss: 0.0763 - val_accuracy: 0.9764\n",
            "Epoch 57/70\n",
            "13/13 [==============================] - 3s 196ms/step - loss: 0.0480 - accuracy: 0.9841 - val_loss: 0.0911 - val_accuracy: 0.9642\n",
            "Epoch 58/70\n",
            "13/13 [==============================] - 3s 199ms/step - loss: 0.0383 - accuracy: 0.9876 - val_loss: 0.1535 - val_accuracy: 0.9398\n",
            "Epoch 59/70\n",
            "13/13 [==============================] - 3s 197ms/step - loss: 0.0844 - accuracy: 0.9674 - val_loss: 0.0878 - val_accuracy: 0.9735\n",
            "Epoch 60/70\n",
            "13/13 [==============================] - 3s 197ms/step - loss: 0.0807 - accuracy: 0.9709 - val_loss: 0.0904 - val_accuracy: 0.9699\n",
            "Epoch 61/70\n",
            "13/13 [==============================] - 3s 197ms/step - loss: 0.0503 - accuracy: 0.9837 - val_loss: 0.0770 - val_accuracy: 0.9764\n",
            "Epoch 62/70\n",
            "13/13 [==============================] - 3s 199ms/step - loss: 0.0439 - accuracy: 0.9868 - val_loss: 0.0812 - val_accuracy: 0.9663\n",
            "Epoch 63/70\n",
            "13/13 [==============================] - 3s 198ms/step - loss: 0.0352 - accuracy: 0.9893 - val_loss: 0.0735 - val_accuracy: 0.9728\n",
            "Epoch 64/70\n",
            "13/13 [==============================] - 3s 198ms/step - loss: 0.0316 - accuracy: 0.9904 - val_loss: 0.0715 - val_accuracy: 0.9742\n",
            "Epoch 65/70\n",
            "13/13 [==============================] - 3s 198ms/step - loss: 0.0310 - accuracy: 0.9907 - val_loss: 0.0677 - val_accuracy: 0.9742\n",
            "Epoch 66/70\n",
            "13/13 [==============================] - 3s 199ms/step - loss: 0.0354 - accuracy: 0.9876 - val_loss: 0.0692 - val_accuracy: 0.9735\n",
            "Epoch 67/70\n",
            "13/13 [==============================] - 3s 199ms/step - loss: 0.0285 - accuracy: 0.9915 - val_loss: 0.0669 - val_accuracy: 0.9706\n",
            "Epoch 68/70\n",
            "13/13 [==============================] - 3s 198ms/step - loss: 0.0225 - accuracy: 0.9941 - val_loss: 0.0552 - val_accuracy: 0.9771\n",
            "Epoch 69/70\n",
            "13/13 [==============================] - 3s 199ms/step - loss: 0.0207 - accuracy: 0.9937 - val_loss: 0.0470 - val_accuracy: 0.9828\n",
            "Epoch 70/70\n",
            "13/13 [==============================] - 3s 200ms/step - loss: 0.0201 - accuracy: 0.9937 - val_loss: 0.0604 - val_accuracy: 0.9778\n",
            "Training time: 0:03:16.201464\n"
          ],
          "name": "stdout"
        }
      ]
    },
    {
      "cell_type": "code",
      "metadata": {
        "id": "qqVGtMfkuL08",
        "outputId": "0cc0021a-7867-4569-e282-1b69a9263316",
        "colab": {
          "base_uri": "https://localhost:8080/",
          "height": 573
        }
      },
      "source": [
        "# Summarizes history for accuracy\n",
        "plt.plot(history.history['accuracy'])\n",
        "plt.plot(history.history['val_accuracy'])\n",
        "plt.title('model accuracy')\n",
        "plt.ylabel('accuracy')\n",
        "plt.xlabel('epoch')\n",
        "plt.legend(['train', 'val'], loc='upper left')\n",
        "plt.show()\n",
        "\n",
        "# Summarizes history for loss\n",
        "plt.plot(history.history['loss'])\n",
        "plt.plot(history.history['val_loss'])\n",
        "plt.title('model loss')\n",
        "plt.ylabel('loss')\n",
        "plt.xlabel('epoch')\n",
        "plt.legend(['train', 'val'], loc='upper left')\n",
        "plt.show()"
      ],
      "execution_count": null,
      "outputs": [
        {
          "output_type": "display_data",
          "data": {
            "image/png": "[encoded data removed]",
            "text/plain": [
              "<Figure size 432x288 with 1 Axes>"
            ]
          },
          "metadata": {
            "tags": [],
            "needs_background": "light"
          }
        },
        {
          "output_type": "display_data",
          "data": {
            "image/png": "[encoded data removed]",
            "text/plain": [
              "<Figure size 432x288 with 1 Axes>"
            ]
          },
          "metadata": {
            "tags": [],
            "needs_background": "light"
          }
        }
      ]
    },
    {
      "cell_type": "markdown",
      "metadata": {
        "id": "H7lbGIwozqUz"
      },
      "source": [
        "# **Model evaluation**"
      ]
    },
    {
      "cell_type": "code",
      "metadata": {
        "id": "yZj_o7vou4Y2",
        "outputId": "f06df284-fd55-4f13-c87e-e1f680f7f176",
        "colab": {
          "base_uri": "https://localhost:8080/"
        }
      },
      "source": [
        "# Evaluates the model with the test set\n",
        "model_3D.evaluate(X_test3D, Y_test3D)"
      ],
      "execution_count": null,
      "outputs": [
        {
          "output_type": "stream",
          "text": [
            "46/46 [==============================] - 0s 4ms/step - loss: 0.1084 - accuracy: 0.9572\n"
          ],
          "name": "stdout"
        },
        {
          "output_type": "execute_result",
          "data": {
            "text/plain": [
              "[0.10835601389408112, 0.9571823477745056]"
            ]
          },
          "metadata": {
            "tags": []
          },
          "execution_count": 34
        }
      ]
    },
    {
      "cell_type": "code",
      "metadata": {
        "id": "_7aotvDFvO_M",
        "outputId": "cd53d6ad-320c-4fb2-cd84-896203f212b2",
        "colab": {
          "base_uri": "https://localhost:8080/"
        }
      },
      "source": [
        "predicted_classes = model_3D.predict_classes(X_test3D)\n",
        "# Sets the actual test label with the same format\n",
        "Y_test3D = Y_test3D.argmax(1)"
      ],
      "execution_count": null,
      "outputs": [
        {
          "output_type": "stream",
          "text": [
            "WARNING:tensorflow:From <ipython-input-35-dcb4539890e8>:1: Sequential.predict_classes (from tensorflow.python.keras.engine.sequential) is deprecated and will be removed after 2021-01-01.\n",
            "Instructions for updating:\n",
            "Please use instead:* `np.argmax(model.predict(x), axis=-1)`,   if your model does multi-class classification   (e.g. if it uses a `softmax` last-layer activation).* `(model.predict(x) > 0.5).astype(\"int32\")`,   if your model does binary classification   (e.g. if it uses a `sigmoid` last-layer activation).\n"
          ],
          "name": "stdout"
        }
      ]
    },
    {
      "cell_type": "code",
      "metadata": {
        "id": "LiGLvr3avTub",
        "outputId": "185fbd99-4cdc-4e40-bb87-ca7dba3af00b",
        "colab": {
          "base_uri": "https://localhost:8080/",
          "height": 394
        }
      },
      "source": [
        "# Label of the classes\n",
        "LABELS = [\n",
        "    'WAWING',\n",
        "    'SCISSORS',\n",
        "    'FLIP',\n",
        "    'PUSH&PULL',\n",
        "    'OPEN&CLOSE'\n",
        "]\n",
        "\n",
        "cm = confusion_matrix(Y_test3D, predicted_classes)\n",
        "plt.figure(figsize=(7, 5))\n",
        "sns.heatmap(cm, annot=True, xticklabels=LABELS, yticklabels=LABELS, cmap=\"YlGnBu\")"
      ],
      "execution_count": null,
      "outputs": [
        {
          "output_type": "execute_result",
          "data": {
            "text/plain": [
              "<matplotlib.axes._subplots.AxesSubplot at 0x7f2096d43550>"
            ]
          },
          "metadata": {
            "tags": []
          },
          "execution_count": 36
        },
        {
          "output_type": "display_data",
          "data": {
            "image/png": "[encoded data removed]",
            "text/plain": [
              "<Figure size 504x360 with 2 Axes>"
            ]
          },
          "metadata": {
            "tags": [],
            "needs_background": "light"
          }
        }
      ]
    }
  ]
}