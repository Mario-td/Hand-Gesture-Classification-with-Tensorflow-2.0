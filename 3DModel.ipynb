{
  "nbformat": 4,
  "nbformat_minor": 0,
  "metadata": {
    "colab": {
      "name": "3DModel.ipynb",
      "provenance": [],
      "authorship_tag": "ABX9TyNMK29xBi3lyo0rkZH2kx8K",
      "include_colab_link": true
    },
    "kernelspec": {
      "name": "python3",
      "display_name": "Python 3"
    }
  },
  "cells": [
    {
      "cell_type": "markdown",
      "metadata": {
        "id": "view-in-github",
        "colab_type": "text"
      },
      "source": [
        "<a href=\"https://colab.research.google.com/github/Mario-td/HandGestureClassification/blob/master/3DModel.ipynb\" target=\"_parent\"><img src=\"https://colab.research.google.com/assets/colab-badge.svg\" alt=\"Open In Colab\"/></a>"
      ]
    },
    {
      "cell_type": "markdown",
      "metadata": {
        "id": "ZBOaERxKt6jz",
        "colab_type": "text"
      },
      "source": [
        "# **3D model selection**"
      ]
    },
    {
      "cell_type": "code",
      "metadata": {
        "colab_type": "code",
        "id": "k-CqOk56o0xL",
        "colab": {}
      },
      "source": [
        "import numpy as np\n",
        "import pandas as pd\n",
        "from sklearn.model_selection import train_test_split\n",
        "import matplotlib\n",
        "import matplotlib.pyplot as plt\n",
        "import tensorflow as tf  \n",
        "import time\n",
        "import datetime"
      ],
      "execution_count": null,
      "outputs": []
    },
    {
      "cell_type": "code",
      "metadata": {
        "id": "ZiK7HVUbg8WA",
        "colab_type": "code",
        "colab": {}
      },
      "source": [
        "from google.colab import drive\n",
        "drive.mount('/content/drive')"
      ],
      "execution_count": null,
      "outputs": []
    },
    {
      "cell_type": "code",
      "metadata": {
        "id": "UzFudcRhtxR3",
        "colab_type": "code",
        "colab": {}
      },
      "source": [
        "# Path to the files\n",
        "path = '/content/drive/My Drive/MastersThesis/Dataset/'\n",
        "data3D = pd.read_csv(path + '/HandGesture3D.csv')"
      ],
      "execution_count": null,
      "outputs": []
    },
    {
      "cell_type": "code",
      "metadata": {
        "id": "yLaGvWdkV8Dr",
        "colab_type": "code",
        "colab": {
          "base_uri": "https://localhost:8080/",
          "height": 34
        },
        "outputId": "787a0fba-d4c7-4a7e-be5d-0bb66e10b93a"
      },
      "source": [
        "# Get the number of frames per sample\n",
        "t_steps = max(data3D['Sequence']) + 1\n",
        "t_steps"
      ],
      "execution_count": null,
      "outputs": [
        {
          "output_type": "execute_result",
          "data": {
            "text/plain": [
              "32"
            ]
          },
          "metadata": {
            "tags": []
          },
          "execution_count": 7
        }
      ]
    },
    {
      "cell_type": "code",
      "metadata": {
        "id": "AJUBE0KaV8KT",
        "colab_type": "code",
        "colab": {
          "base_uri": "https://localhost:8080/",
          "height": 34
        },
        "outputId": "9655a444-c9cb-4a59-ba08-7800891d7cfa"
      },
      "source": [
        "# Get the labels\n",
        "Y_ = np.array(data3D['Label'][0::t_steps][:], dtype=np.int32)\n",
        "Y_.size"
      ],
      "execution_count": null,
      "outputs": [
        {
          "output_type": "execute_result",
          "data": {
            "text/plain": [
              "13604"
            ]
          },
          "metadata": {
            "tags": []
          },
          "execution_count": 8
        }
      ]
    },
    {
      "cell_type": "code",
      "metadata": {
        "id": "_SayttIyV8Mk",
        "colab_type": "code",
        "colab": {
          "base_uri": "https://localhost:8080/",
          "height": 35
        },
        "outputId": "33af37c5-e961-4dd1-def7-34c0bff49ae9"
      },
      "source": [
        "# Get the data\n",
        "X_3D = pd.DataFrame.to_numpy(data3D[data3D.columns[2:]])\n",
        "# Split into the number of samples\n",
        "X_3D = np.array(np.split(X_3D, Y_.size))\n",
        "X_3D.shape"
      ],
      "execution_count": null,
      "outputs": [
        {
          "output_type": "execute_result",
          "data": {
            "text/plain": [
              "(13604, 32, 63)"
            ]
          },
          "metadata": {
            "tags": []
          },
          "execution_count": 9
        }
      ]
    },
    {
      "cell_type": "code",
      "metadata": {
        "id": "5kHxSv57V8Pf",
        "colab_type": "code",
        "colab": {}
      },
      "source": [
        "# Splits into train and test\n",
        "X_train3D, X_test3D, y_train3D, y_test3D = train_test_split(X_3D, Y_, test_size=0.2, random_state=42)"
      ],
      "execution_count": null,
      "outputs": []
    },
    {
      "cell_type": "code",
      "metadata": {
        "id": "4RuKFbbBV8VX",
        "colab_type": "code",
        "colab": {
          "base_uri": "https://localhost:8080/",
          "height": 54
        },
        "outputId": "598ade2c-8541-418b-bc4c-8c9d62d95fa4"
      },
      "source": [
        "print('X_train shape '+ str(X_train3D.shape))\n",
        "print('X_test shape '+ str(X_test3D.shape))"
      ],
      "execution_count": null,
      "outputs": [
        {
          "output_type": "stream",
          "text": [
            "X_train shape (10883, 32, 63)\n",
            "X_test shape (2721, 32, 63)\n"
          ],
          "name": "stdout"
        }
      ]
    },
    {
      "cell_type": "code",
      "metadata": {
        "id": "ihAn7t2BV8Zh",
        "colab_type": "code",
        "colab": {
          "base_uri": "https://localhost:8080/",
          "height": 212
        },
        "outputId": "90de02e9-a677-4cbf-cd5f-1417196c1fab"
      },
      "source": [
        "# Prints the number of samples per class in the training and test set\n",
        "n_classes = 5 \n",
        "for i in range(n_classes):\n",
        "  print('train samples %d: ' % i + str(np.count_nonzero(y_train3D == i)))\n",
        "print('----------------------')\n",
        "for i in range(n_classes):\n",
        "  print('test samples %d: ' % i + str(np.count_nonzero(y_test3D == i)))"
      ],
      "execution_count": null,
      "outputs": [
        {
          "output_type": "stream",
          "text": [
            "train samples 0: 2090\n",
            "train samples 1: 2164\n",
            "train samples 2: 2211\n",
            "train samples 3: 2140\n",
            "train samples 4: 2278\n",
            "----------------------\n",
            "test samples 0: 554\n",
            "test samples 1: 544\n",
            "test samples 2: 537\n",
            "test samples 3: 548\n",
            "test samples 4: 538\n"
          ],
          "name": "stdout"
        }
      ]
    },
    {
      "cell_type": "code",
      "metadata": {
        "id": "a1vasBy4tk9k",
        "colab_type": "code",
        "colab": {}
      },
      "source": [
        "# Adjusts the label arrays shape\n",
        "y_train3D = tf.keras.utils.to_categorical(y_train3D, n_classes)\n",
        "y_test3D = tf.keras.utils.to_categorical(y_test3D, n_classes)"
      ],
      "execution_count": null,
      "outputs": []
    },
    {
      "cell_type": "code",
      "metadata": {
        "id": "XPE9aAqYtoF9",
        "colab_type": "code",
        "colab": {}
      },
      "source": [
        "# Number of input parameters per timestep\n",
        "n_input3D = len(X_train3D[0][0])\n",
        "# Reshapes the input splitting it into subsequences\n",
        "n_sub = 2\n",
        "n_length = (int) (t_steps / n_sub)\n",
        "X_train3D = X_train3D.reshape((X_train3D.shape[0], n_sub, n_length, n_input3D))\n",
        "X_test3D = X_test3D.reshape((X_test3D.shape[0], n_sub, n_length, n_input3D))"
      ],
      "execution_count": null,
      "outputs": []
    },
    {
      "cell_type": "code",
      "metadata": {
        "id": "py5sJBH9V8Tv",
        "colab_type": "code",
        "colab": {}
      },
      "source": [
        "# Defines the model\n",
        "model_3D = tf.keras.Sequential()\n",
        "model_3D.add(tf.keras.layers.Conv1D(filters=64, kernel_size=3, activation='relu', input_shape=(n_sub,  n_length, n_input3D)))\n",
        "model_3D.add(tf.keras.layers.Conv1D(filters=64, kernel_size=3, activation='relu'))\n",
        "model_3D.add(tf.keras.layers.Dropout(0.4))\n",
        "model_3D.add(tf.keras.layers.TimeDistributed(tf.keras.layers.MaxPooling1D(pool_size=2)))\n",
        "model_3D.add(tf.keras.layers.TimeDistributed(tf.keras.layers.Flatten()))\n",
        "model_3D.add(tf.keras.layers.LSTM(200))\n",
        "model_3D.add(tf.keras.layers.Dropout(0.4))\n",
        "model_3D.add(tf.keras.layers.Dense(n_classes, activation='softmax'))"
      ],
      "execution_count": null,
      "outputs": []
    },
    {
      "cell_type": "markdown",
      "metadata": {
        "id": "pqz0j8d3zgdN",
        "colab_type": "text"
      },
      "source": [
        "# **Model training**"
      ]
    },
    {
      "cell_type": "code",
      "metadata": {
        "id": "vX1MNpYqZCI1",
        "colab_type": "code",
        "colab": {
          "base_uri": "https://localhost:8080/",
          "height": 1000
        },
        "outputId": "92213588-0845-4189-fdd0-8a35c1cfdd47"
      },
      "source": [
        "# Hyperparameters\n",
        "batch_size = 1024\n",
        "n_epochs = 80\n",
        "opt = tf.keras.optimizers.Adam(learning_rate=0.0013, beta_1=0.9, beta_2=0.999, amsgrad=False)\n",
        "\n",
        "model_3D.compile(loss='categorical_crossentropy', optimizer= opt, metrics=['accuracy'])\n",
        "\n",
        "# Measures the training time\n",
        "t_start = time.time()\n",
        "history = model_3D.fit(X_train3D, y_train3D, shuffle=True, batch_size=batch_size, epochs=n_epochs)\n",
        "t_stop = time.time() \n",
        "print( \"Training time: \" + str(datetime.timedelta(seconds= t_stop - t_start)))"
      ],
      "execution_count": null,
      "outputs": [
        {
          "output_type": "stream",
          "text": [
            "Epoch 1/80\n",
            " 1/11 [=>............................] - ETA: 0s - loss: 1.6105 - accuracy: 0.2305WARNING:tensorflow:From /usr/local/lib/python3.6/dist-packages/tensorflow/python/ops/summary_ops_v2.py:1277: stop (from tensorflow.python.eager.profiler) is deprecated and will be removed after 2020-07-01.\n",
            "Instructions for updating:\n",
            "use `tf.profiler.experimental.stop` instead.\n",
            "11/11 [==============================] - 3s 235ms/step - loss: 1.4548 - accuracy: 0.4139\n",
            "Epoch 2/80\n",
            "11/11 [==============================] - 3s 232ms/step - loss: 1.0159 - accuracy: 0.6172\n",
            "Epoch 3/80\n",
            "11/11 [==============================] - 3s 233ms/step - loss: 0.8729 - accuracy: 0.6662\n",
            "Epoch 4/80\n",
            "11/11 [==============================] - 2s 225ms/step - loss: 0.6975 - accuracy: 0.7439\n",
            "Epoch 5/80\n",
            "11/11 [==============================] - 2s 225ms/step - loss: 0.5970 - accuracy: 0.7801\n",
            "Epoch 6/80\n",
            "11/11 [==============================] - 2s 226ms/step - loss: 0.5349 - accuracy: 0.8007\n",
            "Epoch 7/80\n",
            "11/11 [==============================] - 3s 229ms/step - loss: 0.5297 - accuracy: 0.8035\n",
            "Epoch 8/80\n",
            "11/11 [==============================] - 3s 230ms/step - loss: 0.4562 - accuracy: 0.8394\n",
            "Epoch 9/80\n",
            "11/11 [==============================] - 2s 227ms/step - loss: 0.4100 - accuracy: 0.8580\n",
            "Epoch 10/80\n",
            "11/11 [==============================] - 2s 227ms/step - loss: 0.3736 - accuracy: 0.8697\n",
            "Epoch 11/80\n",
            "11/11 [==============================] - 3s 229ms/step - loss: 0.3275 - accuracy: 0.8855\n",
            "Epoch 12/80\n",
            "11/11 [==============================] - 2s 227ms/step - loss: 0.3061 - accuracy: 0.8918\n",
            "Epoch 13/80\n",
            "11/11 [==============================] - 3s 230ms/step - loss: 0.2823 - accuracy: 0.9007\n",
            "Epoch 14/80\n",
            "11/11 [==============================] - 2s 226ms/step - loss: 0.2648 - accuracy: 0.9071\n",
            "Epoch 15/80\n",
            "11/11 [==============================] - 3s 229ms/step - loss: 0.2588 - accuracy: 0.9078\n",
            "Epoch 16/80\n",
            "11/11 [==============================] - 2s 227ms/step - loss: 0.2556 - accuracy: 0.9112\n",
            "Epoch 17/80\n",
            "11/11 [==============================] - 2s 225ms/step - loss: 0.2411 - accuracy: 0.9176\n",
            "Epoch 18/80\n",
            "11/11 [==============================] - 3s 231ms/step - loss: 0.1897 - accuracy: 0.9385\n",
            "Epoch 19/80\n",
            "11/11 [==============================] - 3s 231ms/step - loss: 0.2029 - accuracy: 0.9287\n",
            "Epoch 20/80\n",
            "11/11 [==============================] - 3s 228ms/step - loss: 0.1684 - accuracy: 0.9433\n",
            "Epoch 21/80\n",
            "11/11 [==============================] - 2s 227ms/step - loss: 0.1933 - accuracy: 0.9313\n",
            "Epoch 22/80\n",
            "11/11 [==============================] - 3s 227ms/step - loss: 0.1553 - accuracy: 0.9481\n",
            "Epoch 23/80\n",
            "11/11 [==============================] - 2s 226ms/step - loss: 0.1464 - accuracy: 0.9481\n",
            "Epoch 24/80\n",
            "11/11 [==============================] - 3s 230ms/step - loss: 0.1592 - accuracy: 0.9444\n",
            "Epoch 25/80\n",
            "11/11 [==============================] - 2s 226ms/step - loss: 0.1209 - accuracy: 0.9627\n",
            "Epoch 26/80\n",
            "11/11 [==============================] - 2s 227ms/step - loss: 0.1094 - accuracy: 0.9626\n",
            "Epoch 27/80\n",
            "11/11 [==============================] - 2s 226ms/step - loss: 0.1079 - accuracy: 0.9621\n",
            "Epoch 28/80\n",
            "11/11 [==============================] - 3s 227ms/step - loss: 0.1149 - accuracy: 0.9575\n",
            "Epoch 29/80\n",
            "11/11 [==============================] - 2s 226ms/step - loss: 0.1107 - accuracy: 0.9647\n",
            "Epoch 30/80\n",
            "11/11 [==============================] - 2s 227ms/step - loss: 0.1473 - accuracy: 0.9439\n",
            "Epoch 31/80\n",
            "11/11 [==============================] - 3s 228ms/step - loss: 0.1089 - accuracy: 0.9619\n",
            "Epoch 32/80\n",
            "11/11 [==============================] - 4s 379ms/step - loss: 0.1002 - accuracy: 0.9652\n",
            "Epoch 33/80\n",
            "11/11 [==============================] - 4s 378ms/step - loss: 0.0796 - accuracy: 0.9749\n",
            "Epoch 34/80\n",
            "11/11 [==============================] - 2s 226ms/step - loss: 0.0690 - accuracy: 0.9779\n",
            "Epoch 35/80\n",
            "11/11 [==============================] - 3s 229ms/step - loss: 0.0675 - accuracy: 0.9780\n",
            "Epoch 36/80\n",
            "11/11 [==============================] - 2s 225ms/step - loss: 0.0695 - accuracy: 0.9763\n",
            "Epoch 37/80\n",
            "11/11 [==============================] - 2s 224ms/step - loss: 0.0581 - accuracy: 0.9820\n",
            "Epoch 38/80\n",
            "11/11 [==============================] - 2s 227ms/step - loss: 0.0587 - accuracy: 0.9810\n",
            "Epoch 39/80\n",
            "11/11 [==============================] - 2s 226ms/step - loss: 0.0542 - accuracy: 0.9811\n",
            "Epoch 40/80\n",
            "11/11 [==============================] - 2s 226ms/step - loss: 0.0473 - accuracy: 0.9845\n",
            "Epoch 41/80\n",
            "11/11 [==============================] - 3s 229ms/step - loss: 0.0490 - accuracy: 0.9831\n",
            "Epoch 42/80\n",
            "11/11 [==============================] - 3s 229ms/step - loss: 0.0509 - accuracy: 0.9822\n",
            "Epoch 43/80\n",
            "11/11 [==============================] - 3s 228ms/step - loss: 0.0678 - accuracy: 0.9763\n",
            "Epoch 44/80\n",
            "11/11 [==============================] - 2s 227ms/step - loss: 0.0534 - accuracy: 0.9824\n",
            "Epoch 45/80\n",
            "11/11 [==============================] - 2s 227ms/step - loss: 0.0437 - accuracy: 0.9861\n",
            "Epoch 46/80\n",
            "11/11 [==============================] - 2s 227ms/step - loss: 0.0390 - accuracy: 0.9862\n",
            "Epoch 47/80\n",
            "11/11 [==============================] - 2s 224ms/step - loss: 0.0392 - accuracy: 0.9876\n",
            "Epoch 48/80\n",
            "11/11 [==============================] - 2s 226ms/step - loss: 0.0363 - accuracy: 0.9885\n",
            "Epoch 49/80\n",
            "11/11 [==============================] - 3s 228ms/step - loss: 0.0362 - accuracy: 0.9895\n",
            "Epoch 50/80\n",
            "11/11 [==============================] - 3s 229ms/step - loss: 0.0301 - accuracy: 0.9909\n",
            "Epoch 51/80\n",
            "11/11 [==============================] - 2s 225ms/step - loss: 0.0271 - accuracy: 0.9915\n",
            "Epoch 52/80\n",
            "11/11 [==============================] - 3s 230ms/step - loss: 0.0270 - accuracy: 0.9916\n",
            "Epoch 53/80\n",
            "11/11 [==============================] - 2s 226ms/step - loss: 0.0247 - accuracy: 0.9921\n",
            "Epoch 54/80\n",
            "11/11 [==============================] - 2s 226ms/step - loss: 0.0240 - accuracy: 0.9926\n",
            "Epoch 55/80\n",
            "11/11 [==============================] - 3s 234ms/step - loss: 0.0242 - accuracy: 0.9926\n",
            "Epoch 56/80\n",
            "11/11 [==============================] - 3s 230ms/step - loss: 0.0309 - accuracy: 0.9897\n",
            "Epoch 57/80\n",
            "11/11 [==============================] - 3s 230ms/step - loss: 0.0244 - accuracy: 0.9924\n",
            "Epoch 58/80\n",
            "11/11 [==============================] - 2s 227ms/step - loss: 0.0264 - accuracy: 0.9923\n",
            "Epoch 59/80\n",
            "11/11 [==============================] - 3s 228ms/step - loss: 0.0222 - accuracy: 0.9929\n",
            "Epoch 60/80\n",
            "11/11 [==============================] - 3s 231ms/step - loss: 0.0258 - accuracy: 0.9919\n",
            "Epoch 61/80\n",
            "11/11 [==============================] - 2s 227ms/step - loss: 0.0227 - accuracy: 0.9927\n",
            "Epoch 62/80\n",
            "11/11 [==============================] - 3s 228ms/step - loss: 0.0192 - accuracy: 0.9939\n",
            "Epoch 63/80\n",
            "11/11 [==============================] - 3s 236ms/step - loss: 0.0158 - accuracy: 0.9961\n",
            "Epoch 64/80\n",
            "11/11 [==============================] - 3s 228ms/step - loss: 0.0127 - accuracy: 0.9961\n",
            "Epoch 65/80\n",
            "11/11 [==============================] - 3s 229ms/step - loss: 0.0199 - accuracy: 0.9939\n",
            "Epoch 66/80\n",
            "11/11 [==============================] - 3s 234ms/step - loss: 0.0215 - accuracy: 0.9938\n",
            "Epoch 67/80\n",
            "11/11 [==============================] - 3s 229ms/step - loss: 0.0173 - accuracy: 0.9945\n",
            "Epoch 68/80\n",
            "11/11 [==============================] - 2s 225ms/step - loss: 0.0121 - accuracy: 0.9964\n",
            "Epoch 69/80\n",
            "11/11 [==============================] - 2s 224ms/step - loss: 0.0164 - accuracy: 0.9944\n",
            "Epoch 70/80\n",
            "11/11 [==============================] - 2s 227ms/step - loss: 0.0138 - accuracy: 0.9960\n",
            "Epoch 71/80\n",
            "11/11 [==============================] - 3s 230ms/step - loss: 0.0108 - accuracy: 0.9971\n",
            "Epoch 72/80\n",
            "11/11 [==============================] - 3s 228ms/step - loss: 0.0117 - accuracy: 0.9970\n",
            "Epoch 73/80\n",
            "11/11 [==============================] - 3s 227ms/step - loss: 0.0307 - accuracy: 0.9889\n",
            "Epoch 74/80\n",
            "11/11 [==============================] - 2s 227ms/step - loss: 0.0285 - accuracy: 0.9908\n",
            "Epoch 75/80\n",
            "11/11 [==============================] - 2s 226ms/step - loss: 0.0201 - accuracy: 0.9942\n",
            "Epoch 76/80\n",
            "11/11 [==============================] - 2s 227ms/step - loss: 0.0198 - accuracy: 0.9926\n",
            "Epoch 77/80\n",
            "11/11 [==============================] - 3s 228ms/step - loss: 0.0165 - accuracy: 0.9948\n",
            "Epoch 78/80\n",
            "11/11 [==============================] - 2s 227ms/step - loss: 0.0122 - accuracy: 0.9965\n",
            "Epoch 79/80\n",
            "11/11 [==============================] - 2s 227ms/step - loss: 0.0133 - accuracy: 0.9962\n",
            "Epoch 80/80\n",
            "11/11 [==============================] - 2s 227ms/step - loss: 0.0093 - accuracy: 0.9983\n",
            "Training time: 0:03:47.855047\n"
          ],
          "name": "stdout"
        }
      ]
    },
    {
      "cell_type": "code",
      "metadata": {
        "id": "j0a5PLWBa9Ca",
        "colab_type": "code",
        "colab": {
          "base_uri": "https://localhost:8080/",
          "height": 573
        },
        "outputId": "55b8e443-8666-42d6-a475-ceada7e5da6e"
      },
      "source": [
        "# Summarizes history for accuracy\n",
        "plt.plot(history.history['accuracy']) \n",
        "plt.title('classification accuracy') \n",
        "plt.ylabel('accuracy') \n",
        "plt.xlabel('epoch') \n",
        "plt.show()\n",
        "\n",
        "# Summarizes history for loss\n",
        "plt.plot(history.history['loss'])\n",
        "plt.title('model loss')\n",
        "plt.ylabel('loss')\n",
        "plt.xlabel('epoch')\n",
        "plt.show()"
      ],
      "execution_count": null,
      "outputs": [
        {
          "output_type": "display_data",
          "data": {
            "image/png": "[encoded data removed]",
            "text/plain": [
              "<Figure size 432x288 with 1 Axes>"
            ]
          },
          "metadata": {
            "tags": [],
            "needs_background": "light"
          }
        },
        {
          "output_type": "display_data",
          "data": {
            "image/png": "[encoded data removed]",
            "text/plain": [
              "<Figure size 432x288 with 1 Axes>"
            ]
          },
          "metadata": {
            "tags": [],
            "needs_background": "light"
          }
        }
      ]
    },
    {
      "cell_type": "markdown",
      "metadata": {
        "id": "H7lbGIwozqUz",
        "colab_type": "text"
      },
      "source": [
        "# **Model evaluation**"
      ]
    },
    {
      "cell_type": "code",
      "metadata": {
        "id": "YalTq-kbbDbo",
        "colab_type": "code",
        "colab": {
          "base_uri": "https://localhost:8080/",
          "height": 51
        },
        "outputId": "9f48578d-d0cd-4f25-80de-dd3eaa02e65a"
      },
      "source": [
        "model_3D.evaluate(X_test3D, y_test3D)"
      ],
      "execution_count": null,
      "outputs": [
        {
          "output_type": "stream",
          "text": [
            "86/86 [==============================] - 1s 6ms/step - loss: 0.0139 - accuracy: 0.9978\n"
          ],
          "name": "stdout"
        },
        {
          "output_type": "execute_result",
          "data": {
            "text/plain": [
              "[0.013942551799118519, 0.9977949261665344]"
            ]
          },
          "metadata": {
            "tags": []
          },
          "execution_count": 20
        }
      ]
    },
    {
      "cell_type": "code",
      "metadata": {
        "id": "suzRJ3aUbKNX",
        "colab_type": "code",
        "colab": {}
      },
      "source": [
        "predicted_classes = model_3D.predict_classes(X_test3D) \n",
        "# Sets the actual test label with the same format\n",
        "y_test3D = y_test3D.argmax(1)"
      ],
      "execution_count": null,
      "outputs": []
    },
    {
      "cell_type": "code",
      "metadata": {
        "id": "sM-OvX3PbTQt",
        "colab_type": "code",
        "colab": {
          "base_uri": "https://localhost:8080/",
          "height": 402
        },
        "outputId": "5d5a5017-8d1e-4062-c15a-b63c117fee83"
      },
      "source": [
        "from sklearn.metrics import confusion_matrix\n",
        "import seaborn as sns\n",
        "\n",
        "# Label of the classes\n",
        "LABELS = [    \n",
        "    '(WAWING)',\n",
        "    '(SCISSORS)',\n",
        "    '(FLIP)',\n",
        "    '(PUSH&PULL)',\n",
        "    '(OPEN&CLOSE)'\n",
        "] \n",
        "\n",
        "cm = confusion_matrix( y_test3D, predicted_classes)\n",
        "cm\n",
        "plt.figure(figsize = (7, 5))\n",
        "sns.heatmap(cm, annot = True, xticklabels = LABELS, yticklabels = LABELS, cmap=\"YlGnBu\")"
      ],
      "execution_count": null,
      "outputs": [
        {
          "output_type": "execute_result",
          "data": {
            "text/plain": [
              "<matplotlib.axes._subplots.AxesSubplot at 0x7f9ceeb59da0>"
            ]
          },
          "metadata": {
            "tags": []
          },
          "execution_count": 40
        },
        {
          "output_type": "display_data",
          "data": {
            "image/png": "[encoded data removed]",
            "text/plain": [
              "<Figure size 504x360 with 2 Axes>"
            ]
          },
          "metadata": {
            "tags": [],
            "needs_background": "light"
          }
        }
      ]
    },
    {
      "cell_type": "code",
      "metadata": {
        "id": "fN1KNQEsvdaV",
        "colab_type": "code",
        "colab": {}
      },
      "source": [
        "# Saves the parameters\n",
        "model_3D.save_weights(path + 'WEIGHTS-3D.ckpt')\n",
        "model_3D.save(path + 'MODEL-3D.h5')"
      ],
      "execution_count": null,
      "outputs": []
    }
  ]
}