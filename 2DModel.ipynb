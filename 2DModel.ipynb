{
  "nbformat": 4,
  "nbformat_minor": 0,
  "metadata": {
    "colab": {
      "name": "2DModel.ipynb",
      "provenance": [],
      "authorship_tag": "ABX9TyMANPneSmEg4vuXfVN4WMOb",
      "include_colab_link": true
    },
    "kernelspec": {
      "name": "python3",
      "display_name": "Python 3"
    }
  },
  "cells": [
    {
      "cell_type": "markdown",
      "metadata": {
        "id": "view-in-github",
        "colab_type": "text"
      },
      "source": [
        "<a href=\"https://colab.research.google.com/github/Mario-td/Hand-Gesture-Classification-with-Tensorflow-2.0/blob/master/2DModel.ipynb\" target=\"_parent\"><img src=\"https://colab.research.google.com/assets/colab-badge.svg\" alt=\"Open In Colab\"/></a>"
      ]
    },
    {
      "cell_type": "markdown",
      "metadata": {
        "id": "ZBOaERxKt6jz"
      },
      "source": [
        "# **2D model selection**"
      ]
    },
    {
      "cell_type": "code",
      "metadata": {
        "id": "k-CqOk56o0xL"
      },
      "source": [
        "import numpy as np\n",
        "import pandas as pd\n",
        "from sklearn.model_selection import train_test_split\n",
        "import matplotlib\n",
        "import matplotlib.pyplot as plt\n",
        "import tensorflow as tf\n",
        "import time\n",
        "import datetime\n",
        "from sklearn.metrics import confusion_matrix\n",
        "import seaborn as sns"
      ],
      "execution_count": null,
      "outputs": []
    },
    {
      "cell_type": "code",
      "metadata": {
        "id": "ZiK7HVUbg8WA",
        "colab": {
          "base_uri": "https://localhost:8080/"
        },
        "outputId": "14d8618f-1c64-4491-ab9e-01a7ccecc70a"
      },
      "source": [
        "from google.colab import drive\n",
        "drive.mount('/content/drive')"
      ],
      "execution_count": null,
      "outputs": [
        {
          "output_type": "stream",
          "text": [
            "Drive already mounted at /content/drive; to attempt to forcibly remount, call drive.mount(\"/content/drive\", force_remount=True).\n"
          ],
          "name": "stdout"
        }
      ]
    },
    {
      "cell_type": "code",
      "metadata": {
        "id": "UzFudcRhtxR3"
      },
      "source": [
        "# Path to the files\n",
        "path = '/content/drive/My Drive/MastersThesis/Dataset/'\n",
        "train2D = pd.read_csv(path + '/TrainingSet2D.csv')\n",
        "test2D = pd.read_csv(path + '/TestSet2D.csv')"
      ],
      "execution_count": null,
      "outputs": []
    },
    {
      "cell_type": "code",
      "metadata": {
        "id": "sVnRoqinhq0F",
        "colab": {
          "base_uri": "https://localhost:8080/"
        },
        "outputId": "7364eff1-c6dd-4f37-b2a1-740294b877f2"
      },
      "source": [
        "# Gets the number of frames per sample\n",
        "t_steps = max(test2D['Sequence']) + 1\n",
        "t_steps"
      ],
      "execution_count": null,
      "outputs": [
        {
          "output_type": "execute_result",
          "data": {
            "text/plain": [
              "32"
            ]
          },
          "metadata": {
            "tags": []
          },
          "execution_count": 398
        }
      ]
    },
    {
      "cell_type": "code",
      "metadata": {
        "id": "BSdg6PSbhyXE"
      },
      "source": [
        "# Gets the labels\n",
        "Y_train2D = np.array(train2D['Label'][0::t_steps][:], dtype=np.int32)\n",
        "Y_test2D = np.array(test2D['Label'][0::t_steps][:], dtype=np.int32)"
      ],
      "execution_count": null,
      "outputs": []
    },
    {
      "cell_type": "code",
      "metadata": {
        "id": "X0842ivyhyeL"
      },
      "source": [
        "# Gets the data\n",
        "X_train2D = pd.DataFrame.to_numpy(train2D[train2D.columns[2:]])\n",
        "X_test2D = pd.DataFrame.to_numpy(test2D[test2D.columns[2:]])\n",
        "# Splits into the number of samples\n",
        "X_train2D = np.array(np.split(X_train2D, Y_train2D.size))\n",
        "X_test2D = np.array(np.split(X_test2D, Y_test2D.size))"
      ],
      "execution_count": null,
      "outputs": []
    },
    {
      "cell_type": "code",
      "metadata": {
        "id": "3m2jTkBPhyji"
      },
      "source": [
        "# Splits into training, and validation set\n",
        "X_train2D, X_val2D, Y_train2D, Y_val2D = train_test_split(X_train2D, Y_train2D,\n",
        "                                                test_size=0.1, random_state=42)"
      ],
      "execution_count": null,
      "outputs": []
    },
    {
      "cell_type": "code",
      "metadata": {
        "id": "1NcMIch7mE1M",
        "colab": {
          "base_uri": "https://localhost:8080/"
        },
        "outputId": "4afb3fb3-4f47-4016-8508-3f0c3788eb49"
      },
      "source": [
        "print('X_train2D shape ' + str(X_train2D.shape))\n",
        "print('Y_train2D shape ' + str(Y_train2D.shape))\n",
        "print('X_val2D shape ' + str(X_val2D.shape))\n",
        "print('Y_val2D shape ' + str(Y_val2D.shape))"
      ],
      "execution_count": null,
      "outputs": [
        {
          "output_type": "stream",
          "text": [
            "X_train2D shape (3137, 32, 42)\n",
            "Y_train2D shape (3137,)\n",
            "X_val2D shape (349, 32, 42)\n",
            "Y_val2D shape (349,)\n"
          ],
          "name": "stdout"
        }
      ]
    },
    {
      "cell_type": "markdown",
      "metadata": {
        "id": "1aXj-yR0igwD"
      },
      "source": [
        "# **Data augmentation**"
      ]
    },
    {
      "cell_type": "code",
      "metadata": {
        "id": "SgyjClybkdn-"
      },
      "source": [
        "def dataAugmentation(X_, Y, c):\n",
        "    X = X_[Y == c]\n",
        "    # Duplicate the samples by inverting the order of the sequence in time\n",
        "    X_inv_t = [X[i][::-1] for i in range(len(X))]\n",
        "    X = np.append(X, X_inv_t, 0)\n",
        "    # Duplicate the samples by inverting the x coordinate\n",
        "    # with respect to the y axis (mirroring)\n",
        "    X_inv_pos = []\n",
        "    for k in range(len(X)):\n",
        "        Xj = []\n",
        "        for j in range(len(X[k])):\n",
        "            Xi = []\n",
        "            for i in range(len(X[k][j])):\n",
        "                if i % 3 == 0:\n",
        "                    Xi.append(abs(X[k][j][i] - 1))\n",
        "                else:\n",
        "                    Xi.append(X[k][j][i])\n",
        "            Xj.append(Xi)\n",
        "        X_inv_pos.append(Xj)\n",
        "    X = np.append(X, X_inv_pos, 0)\n",
        "    X_ = np.append(X_[Y != c], X, 0)\n",
        "    Y = np.append(Y[Y != c], np.ones(len(X)) * c)\n",
        "    return X_, Y"
      ],
      "execution_count": null,
      "outputs": []
    },
    {
      "cell_type": "code",
      "metadata": {
        "id": "gvCD0tbtifqq"
      },
      "source": [
        "# Duplicate samples in training, validation and test sets\n",
        "# separately to avoid overfitting mixing samples\n",
        "n_classes = 5\n",
        "for c in range(n_classes):\n",
        "    X_train2D, Y_train2D = dataAugmentation(X_train2D, Y_train2D, c)\n",
        "    X_val2D, Y_val2D = dataAugmentation(X_val2D, Y_val2D, c)\n",
        "    X_test2D, Y_test2D = dataAugmentation(X_test2D, Y_test2D, c)"
      ],
      "execution_count": null,
      "outputs": []
    },
    {
      "cell_type": "code",
      "metadata": {
        "id": "eY9GJc1lpI1w",
        "colab": {
          "base_uri": "https://localhost:8080/"
        },
        "outputId": "e4594604-0737-414d-fc4d-60c44cff1407"
      },
      "source": [
        "# Prints the number of samples per class in the training and test set\n",
        "for i in range(n_classes):\n",
        "    print('train samples %d: ' % i + str(np.count_nonzero(Y_train2D == i)))\n",
        "print('----------------------')\n",
        "for i in range(n_classes):\n",
        "    print('val samples %d: ' % i + str(np.count_nonzero(Y_val2D == i)))\n",
        "print('----------------------')\n",
        "for i in range(n_classes):\n",
        "    print('test samples %d: ' % i + str(np.count_nonzero(Y_test2D == i)))"
      ],
      "execution_count": null,
      "outputs": [
        {
          "output_type": "stream",
          "text": [
            "train samples 0: 2524\n",
            "train samples 1: 2432\n",
            "train samples 2: 2480\n",
            "train samples 3: 2464\n",
            "train samples 4: 2648\n",
            "----------------------\n",
            "val samples 0: 324\n",
            "val samples 1: 276\n",
            "val samples 2: 268\n",
            "val samples 3: 224\n",
            "val samples 4: 304\n",
            "----------------------\n",
            "test samples 0: 288\n",
            "test samples 1: 284\n",
            "test samples 2: 300\n",
            "test samples 3: 288\n",
            "test samples 4: 288\n"
          ],
          "name": "stdout"
        }
      ]
    },
    {
      "cell_type": "code",
      "metadata": {
        "id": "o-wcBdrjxJgg"
      },
      "source": [
        "# Adjusts the label arrays shape\n",
        "Y_train2D = tf.keras.utils.to_categorical(Y_train2D, n_classes)\n",
        "Y_test2D = tf.keras.utils.to_categorical(Y_test2D, n_classes)\n",
        "Y_val2D = tf.keras.utils.to_categorical(Y_val2D, n_classes)"
      ],
      "execution_count": null,
      "outputs": []
    },
    {
      "cell_type": "code",
      "metadata": {
        "id": "ZLDvPtAuxqOw"
      },
      "source": [
        "# Number of input parameters per timestep\n",
        "n_input2D = len(X_train2D[0][0])\n",
        "# Reshapes the input splitting it into subsequences\n",
        "n_sub = 2\n",
        "n_length = int(t_steps / n_sub)\n",
        "X_train2D = X_train2D.reshape((X_train2D.shape[0], n_sub, n_length, n_input2D))\n",
        "X_val2D = X_val2D.reshape((X_val2D.shape[0], n_sub, n_length, n_input2D))\n",
        "X_test2D = X_test2D.reshape((X_test2D.shape[0], n_sub, n_length, n_input2D))"
      ],
      "execution_count": null,
      "outputs": []
    },
    {
      "cell_type": "code",
      "metadata": {
        "id": "xJia3ebAx_-B"
      },
      "source": [
        "# Defines the model\n",
        "model_2D = tf.keras.Sequential()\n",
        "model_2D.add(tf.keras.layers.Conv1D(filters=64, kernel_size=3, activation='relu', input_shape=(n_sub, n_length, n_input2D)))\n",
        "model_2D.add(tf.keras.layers.Conv1D(filters=64, kernel_size=3, activation='relu'))\n",
        "model_2D.add(tf.keras.layers.Dropout(0.2))\n",
        "model_2D.add(tf.keras.layers.TimeDistributed(tf.keras.layers.MaxPooling1D(pool_size=2)))\n",
        "model_2D.add(tf.keras.layers.TimeDistributed(tf.keras.layers.Flatten()))\n",
        "model_2D.add(tf.keras.layers.LSTM(200))\n",
        "model_2D.add(tf.keras.layers.Dropout(0.2))\n",
        "model_2D.add(tf.keras.layers.Dense(n_classes, activation='softmax'))"
      ],
      "execution_count": null,
      "outputs": []
    },
    {
      "cell_type": "markdown",
      "metadata": {
        "id": "pqz0j8d3zgdN"
      },
      "source": [
        "# **Model training**"
      ]
    },
    {
      "cell_type": "code",
      "metadata": {
        "id": "whHo7IXMqghK",
        "colab": {
          "base_uri": "https://localhost:8080/"
        },
        "outputId": "0126772c-4393-4239-f7ea-c299e1a694e1"
      },
      "source": [
        "# Hyperparameters\n",
        "batch_size = 1024\n",
        "n_epochs = 70\n",
        "opt = tf.keras.optimizers.Adam(learning_rate=0.0011, beta_1=0.9, beta_2=0.999, amsgrad=False)\n",
        "\n",
        "model_2D.compile(loss='categorical_crossentropy', optimizer=opt, metrics=['accuracy'])\n",
        "\n",
        "# Measures the training time\n",
        "t_start = time.time()\n",
        "history = model_2D.fit(X_train2D, Y_train2D, validation_data=(X_val2D, Y_val2D),\n",
        "                       shuffle=True, batch_size=batch_size, epochs=n_epochs)\n",
        "t_stop = time.time()\n",
        "print(\"Training time: \" + str(datetime.timedelta(seconds=t_stop - t_start)))"
      ],
      "execution_count": null,
      "outputs": [
        {
          "output_type": "stream",
          "text": [
            "Epoch 1/70\n",
            "13/13 [==============================] - 3s 264ms/step - loss: 1.4897 - accuracy: 0.3848 - val_loss: 1.1958 - val_accuracy: 0.5974\n",
            "Epoch 2/70\n",
            "13/13 [==============================] - 3s 218ms/step - loss: 1.0633 - accuracy: 0.5843 - val_loss: 0.8404 - val_accuracy: 0.7092\n",
            "Epoch 3/70\n",
            "13/13 [==============================] - 3s 213ms/step - loss: 0.7915 - accuracy: 0.6784 - val_loss: 0.6712 - val_accuracy: 0.7543\n",
            "Epoch 4/70\n",
            "13/13 [==============================] - 3s 212ms/step - loss: 0.7634 - accuracy: 0.6942 - val_loss: 0.6279 - val_accuracy: 0.7607\n",
            "Epoch 5/70\n",
            "13/13 [==============================] - 3s 213ms/step - loss: 0.6744 - accuracy: 0.7349 - val_loss: 0.6352 - val_accuracy: 0.7837\n",
            "Epoch 6/70\n",
            "13/13 [==============================] - 3s 213ms/step - loss: 0.5966 - accuracy: 0.7763 - val_loss: 0.5406 - val_accuracy: 0.8087\n",
            "Epoch 7/70\n",
            "13/13 [==============================] - 3s 212ms/step - loss: 0.5457 - accuracy: 0.7944 - val_loss: 0.4928 - val_accuracy: 0.8259\n",
            "Epoch 8/70\n",
            "13/13 [==============================] - 3s 212ms/step - loss: 0.4873 - accuracy: 0.8252 - val_loss: 0.4490 - val_accuracy: 0.8431\n",
            "Epoch 9/70\n",
            "13/13 [==============================] - 3s 212ms/step - loss: 0.4751 - accuracy: 0.8165 - val_loss: 0.6334 - val_accuracy: 0.7113\n",
            "Epoch 10/70\n",
            "13/13 [==============================] - 3s 213ms/step - loss: 0.6537 - accuracy: 0.7375 - val_loss: 0.5419 - val_accuracy: 0.7543\n",
            "Epoch 11/70\n",
            "13/13 [==============================] - 3s 211ms/step - loss: 0.4951 - accuracy: 0.8126 - val_loss: 0.4693 - val_accuracy: 0.8324\n",
            "Epoch 12/70\n",
            "13/13 [==============================] - 3s 210ms/step - loss: 0.4154 - accuracy: 0.8551 - val_loss: 0.4098 - val_accuracy: 0.8617\n",
            "Epoch 13/70\n",
            "13/13 [==============================] - 3s 213ms/step - loss: 0.3796 - accuracy: 0.8684 - val_loss: 0.4168 - val_accuracy: 0.8446\n",
            "Epoch 14/70\n",
            "13/13 [==============================] - 3s 213ms/step - loss: 0.3542 - accuracy: 0.8738 - val_loss: 0.3720 - val_accuracy: 0.8675\n",
            "Epoch 15/70\n",
            "13/13 [==============================] - 3s 213ms/step - loss: 0.3174 - accuracy: 0.8859 - val_loss: 0.3328 - val_accuracy: 0.8789\n",
            "Epoch 16/70\n",
            "13/13 [==============================] - 3s 212ms/step - loss: 0.3503 - accuracy: 0.8649 - val_loss: 0.3282 - val_accuracy: 0.8811\n",
            "Epoch 17/70\n",
            "13/13 [==============================] - 3s 213ms/step - loss: 0.3258 - accuracy: 0.8783 - val_loss: 0.3260 - val_accuracy: 0.8854\n",
            "Epoch 18/70\n",
            "13/13 [==============================] - 3s 212ms/step - loss: 0.2774 - accuracy: 0.9065 - val_loss: 0.2823 - val_accuracy: 0.9026\n",
            "Epoch 19/70\n",
            "13/13 [==============================] - 3s 215ms/step - loss: 0.2513 - accuracy: 0.9173 - val_loss: 0.3007 - val_accuracy: 0.8890\n",
            "Epoch 20/70\n",
            "13/13 [==============================] - 3s 213ms/step - loss: 0.2333 - accuracy: 0.9217 - val_loss: 0.2565 - val_accuracy: 0.9019\n",
            "Epoch 21/70\n",
            "13/13 [==============================] - 3s 214ms/step - loss: 0.2087 - accuracy: 0.9296 - val_loss: 0.2108 - val_accuracy: 0.9370\n",
            "Epoch 22/70\n",
            "13/13 [==============================] - 3s 213ms/step - loss: 0.1774 - accuracy: 0.9448 - val_loss: 0.2069 - val_accuracy: 0.9327\n",
            "Epoch 23/70\n",
            "13/13 [==============================] - 3s 213ms/step - loss: 0.1680 - accuracy: 0.9474 - val_loss: 0.2221 - val_accuracy: 0.9183\n",
            "Epoch 24/70\n",
            "13/13 [==============================] - 3s 217ms/step - loss: 0.1611 - accuracy: 0.9480 - val_loss: 0.1774 - val_accuracy: 0.9463\n",
            "Epoch 25/70\n",
            "13/13 [==============================] - 3s 213ms/step - loss: 0.1291 - accuracy: 0.9642 - val_loss: 0.1814 - val_accuracy: 0.9448\n",
            "Epoch 26/70\n",
            "13/13 [==============================] - 3s 213ms/step - loss: 0.1199 - accuracy: 0.9646 - val_loss: 0.1493 - val_accuracy: 0.9606\n",
            "Epoch 27/70\n",
            "13/13 [==============================] - 3s 213ms/step - loss: 0.1152 - accuracy: 0.9672 - val_loss: 0.1608 - val_accuracy: 0.9413\n",
            "Epoch 28/70\n",
            "13/13 [==============================] - 3s 211ms/step - loss: 0.1110 - accuracy: 0.9643 - val_loss: 0.1565 - val_accuracy: 0.9405\n",
            "Epoch 29/70\n",
            "13/13 [==============================] - 3s 213ms/step - loss: 0.1232 - accuracy: 0.9575 - val_loss: 0.1309 - val_accuracy: 0.9549\n",
            "Epoch 30/70\n",
            "13/13 [==============================] - 3s 212ms/step - loss: 0.1079 - accuracy: 0.9658 - val_loss: 0.1278 - val_accuracy: 0.9678\n",
            "Epoch 31/70\n",
            "13/13 [==============================] - 3s 212ms/step - loss: 0.0956 - accuracy: 0.9713 - val_loss: 0.1137 - val_accuracy: 0.9706\n",
            "Epoch 32/70\n",
            "13/13 [==============================] - 3s 212ms/step - loss: 0.0824 - accuracy: 0.9770 - val_loss: 0.1159 - val_accuracy: 0.9649\n",
            "Epoch 33/70\n",
            "13/13 [==============================] - 3s 212ms/step - loss: 0.0806 - accuracy: 0.9754 - val_loss: 0.1291 - val_accuracy: 0.9628\n",
            "Epoch 34/70\n",
            "13/13 [==============================] - 3s 213ms/step - loss: 0.0816 - accuracy: 0.9753 - val_loss: 0.1330 - val_accuracy: 0.9599\n",
            "Epoch 35/70\n",
            "13/13 [==============================] - 3s 215ms/step - loss: 0.0775 - accuracy: 0.9759 - val_loss: 0.0994 - val_accuracy: 0.9735\n",
            "Epoch 36/70\n",
            "13/13 [==============================] - 3s 215ms/step - loss: 0.0635 - accuracy: 0.9821 - val_loss: 0.1018 - val_accuracy: 0.9670\n",
            "Epoch 37/70\n",
            "13/13 [==============================] - 3s 215ms/step - loss: 0.0641 - accuracy: 0.9802 - val_loss: 0.1001 - val_accuracy: 0.9756\n",
            "Epoch 38/70\n",
            "13/13 [==============================] - 3s 214ms/step - loss: 0.0613 - accuracy: 0.9824 - val_loss: 0.1042 - val_accuracy: 0.9699\n",
            "Epoch 39/70\n",
            "13/13 [==============================] - 3s 214ms/step - loss: 0.0596 - accuracy: 0.9823 - val_loss: 0.0859 - val_accuracy: 0.9735\n",
            "Epoch 40/70\n",
            "13/13 [==============================] - 3s 215ms/step - loss: 0.0579 - accuracy: 0.9828 - val_loss: 0.1046 - val_accuracy: 0.9670\n",
            "Epoch 41/70\n",
            "13/13 [==============================] - 3s 216ms/step - loss: 0.0770 - accuracy: 0.9741 - val_loss: 0.1032 - val_accuracy: 0.9699\n",
            "Epoch 42/70\n",
            "13/13 [==============================] - 3s 215ms/step - loss: 0.0600 - accuracy: 0.9811 - val_loss: 0.0924 - val_accuracy: 0.9742\n",
            "Epoch 43/70\n",
            "13/13 [==============================] - 3s 215ms/step - loss: 0.0522 - accuracy: 0.9845 - val_loss: 0.0874 - val_accuracy: 0.9792\n",
            "Epoch 44/70\n",
            "13/13 [==============================] - 3s 214ms/step - loss: 0.0613 - accuracy: 0.9812 - val_loss: 0.0861 - val_accuracy: 0.9807\n",
            "Epoch 45/70\n",
            "13/13 [==============================] - 3s 213ms/step - loss: 0.0508 - accuracy: 0.9826 - val_loss: 0.0769 - val_accuracy: 0.9807\n",
            "Epoch 46/70\n",
            "13/13 [==============================] - 3s 215ms/step - loss: 0.0470 - accuracy: 0.9860 - val_loss: 0.0826 - val_accuracy: 0.9756\n",
            "Epoch 47/70\n",
            "13/13 [==============================] - 3s 215ms/step - loss: 0.0439 - accuracy: 0.9872 - val_loss: 0.0763 - val_accuracy: 0.9821\n",
            "Epoch 48/70\n",
            "13/13 [==============================] - 3s 216ms/step - loss: 0.0457 - accuracy: 0.9849 - val_loss: 0.0782 - val_accuracy: 0.9792\n",
            "Epoch 49/70\n",
            "13/13 [==============================] - 3s 213ms/step - loss: 0.0477 - accuracy: 0.9840 - val_loss: 0.0947 - val_accuracy: 0.9785\n",
            "Epoch 50/70\n",
            "13/13 [==============================] - 3s 215ms/step - loss: 0.0393 - accuracy: 0.9876 - val_loss: 0.0954 - val_accuracy: 0.9728\n",
            "Epoch 51/70\n",
            "13/13 [==============================] - 3s 215ms/step - loss: 0.0392 - accuracy: 0.9876 - val_loss: 0.0908 - val_accuracy: 0.9721\n",
            "Epoch 52/70\n",
            "13/13 [==============================] - 3s 212ms/step - loss: 0.0442 - accuracy: 0.9853 - val_loss: 0.1163 - val_accuracy: 0.9649\n",
            "Epoch 53/70\n",
            "13/13 [==============================] - 3s 212ms/step - loss: 0.0563 - accuracy: 0.9803 - val_loss: 0.0831 - val_accuracy: 0.9799\n",
            "Epoch 54/70\n",
            "13/13 [==============================] - 3s 215ms/step - loss: 0.0356 - accuracy: 0.9893 - val_loss: 0.0815 - val_accuracy: 0.9792\n",
            "Epoch 55/70\n",
            "13/13 [==============================] - 3s 213ms/step - loss: 0.0354 - accuracy: 0.9884 - val_loss: 0.0744 - val_accuracy: 0.9807\n",
            "Epoch 56/70\n",
            "13/13 [==============================] - 3s 213ms/step - loss: 0.0326 - accuracy: 0.9900 - val_loss: 0.0772 - val_accuracy: 0.9771\n",
            "Epoch 57/70\n",
            "13/13 [==============================] - 3s 215ms/step - loss: 0.0329 - accuracy: 0.9888 - val_loss: 0.0830 - val_accuracy: 0.9771\n",
            "Epoch 58/70\n",
            "13/13 [==============================] - 3s 212ms/step - loss: 0.0341 - accuracy: 0.9890 - val_loss: 0.0768 - val_accuracy: 0.9821\n",
            "Epoch 59/70\n",
            "13/13 [==============================] - 3s 214ms/step - loss: 0.0256 - accuracy: 0.9920 - val_loss: 0.0861 - val_accuracy: 0.9756\n",
            "Epoch 60/70\n",
            "13/13 [==============================] - 3s 214ms/step - loss: 0.0373 - accuracy: 0.9871 - val_loss: 0.1056 - val_accuracy: 0.9620\n",
            "Epoch 61/70\n",
            "13/13 [==============================] - 3s 216ms/step - loss: 0.0558 - accuracy: 0.9807 - val_loss: 0.0725 - val_accuracy: 0.9857\n",
            "Epoch 62/70\n",
            "13/13 [==============================] - 3s 214ms/step - loss: 0.0316 - accuracy: 0.9896 - val_loss: 0.0847 - val_accuracy: 0.9771\n",
            "Epoch 63/70\n",
            "13/13 [==============================] - 3s 215ms/step - loss: 0.0302 - accuracy: 0.9904 - val_loss: 0.0886 - val_accuracy: 0.9728\n",
            "Epoch 64/70\n",
            "13/13 [==============================] - 3s 215ms/step - loss: 0.0547 - accuracy: 0.9805 - val_loss: 0.1240 - val_accuracy: 0.9570\n",
            "Epoch 65/70\n",
            "13/13 [==============================] - 3s 214ms/step - loss: 0.0434 - accuracy: 0.9847 - val_loss: 0.0858 - val_accuracy: 0.9756\n",
            "Epoch 66/70\n",
            "13/13 [==============================] - 3s 214ms/step - loss: 0.0261 - accuracy: 0.9925 - val_loss: 0.0688 - val_accuracy: 0.9857\n",
            "Epoch 67/70\n",
            "13/13 [==============================] - 3s 215ms/step - loss: 0.0176 - accuracy: 0.9951 - val_loss: 0.0643 - val_accuracy: 0.9842\n",
            "Epoch 68/70\n",
            "13/13 [==============================] - 3s 212ms/step - loss: 0.0183 - accuracy: 0.9942 - val_loss: 0.0652 - val_accuracy: 0.9792\n",
            "Epoch 69/70\n",
            "13/13 [==============================] - 3s 213ms/step - loss: 0.0181 - accuracy: 0.9945 - val_loss: 0.0743 - val_accuracy: 0.9835\n",
            "Epoch 70/70\n",
            "13/13 [==============================] - 3s 214ms/step - loss: 0.0259 - accuracy: 0.9908 - val_loss: 0.0710 - val_accuracy: 0.9807\n",
            "Training time: 0:03:33.715249\n"
          ],
          "name": "stdout"
        }
      ]
    },
    {
      "cell_type": "code",
      "metadata": {
        "id": "qqVGtMfkuL08",
        "colab": {
          "base_uri": "https://localhost:8080/",
          "height": 573
        },
        "outputId": "657e4450-2fa5-4744-ea56-49535ff04258"
      },
      "source": [
        "# Summarizes history for accuracy\n",
        "plt.plot(history.history['accuracy'])\n",
        "plt.plot(history.history['val_accuracy'])\n",
        "plt.title('model accuracy')\n",
        "plt.ylabel('accuracy')\n",
        "plt.xlabel('epoch')\n",
        "plt.legend(['train', 'val'], loc='upper left')\n",
        "plt.show()\n",
        "\n",
        "# Summarizes history for loss\n",
        "plt.plot(history.history['loss'])\n",
        "plt.plot(history.history['val_loss'])\n",
        "plt.title('model loss')\n",
        "plt.ylabel('loss')\n",
        "plt.xlabel('epoch')\n",
        "plt.legend(['train', 'val'], loc='upper left')\n",
        "plt.show()"
      ],
      "execution_count": null,
      "outputs": [
        {
          "output_type": "display_data",
          "data": {
            "image/png": "[encoded data removed]",
            "text/plain": [
              "<Figure size 432x288 with 1 Axes>"
            ]
          },
          "metadata": {
            "tags": [],
            "needs_background": "light"
          }
        },
        {
          "output_type": "display_data",
          "data": {
            "image/png": "[encoded data removed]",
            "text/plain": [
              "<Figure size 432x288 with 1 Axes>"
            ]
          },
          "metadata": {
            "tags": [],
            "needs_background": "light"
          }
        }
      ]
    },
    {
      "cell_type": "markdown",
      "metadata": {
        "id": "H7lbGIwozqUz"
      },
      "source": [
        "# **Model evaluation**"
      ]
    },
    {
      "cell_type": "code",
      "metadata": {
        "id": "yZj_o7vou4Y2",
        "colab": {
          "base_uri": "https://localhost:8080/"
        },
        "outputId": "e8163d20-27e0-4c3d-f255-be4f9b9d1cb7"
      },
      "source": [
        "# Evaluates the model with the test set\n",
        "model_2D.evaluate(X_test2D, Y_test2D)"
      ],
      "execution_count": null,
      "outputs": [
        {
          "output_type": "stream",
          "text": [
            "46/46 [==============================] - 0s 5ms/step - loss: 0.1615 - accuracy: 0.9565\n"
          ],
          "name": "stdout"
        },
        {
          "output_type": "execute_result",
          "data": {
            "text/plain": [
              "[0.16149947047233582, 0.9564917087554932]"
            ]
          },
          "metadata": {
            "tags": []
          },
          "execution_count": 411
        }
      ]
    },
    {
      "cell_type": "code",
      "metadata": {
        "id": "_7aotvDFvO_M"
      },
      "source": [
        "predicted_classes = model_2D.predict_classes(X_test2D)\n",
        "# Sets the actual test label with the same format\n",
        "Y_test2D = Y_test2D.argmax(1)"
      ],
      "execution_count": null,
      "outputs": []
    },
    {
      "cell_type": "code",
      "metadata": {
        "id": "LiGLvr3avTub",
        "colab": {
          "base_uri": "https://localhost:8080/",
          "height": 394
        },
        "outputId": "3f0c50d2-ad92-4b07-95aa-535b28bdc267"
      },
      "source": [
        "# Label of the classes\n",
        "LABELS = [\n",
        "    'WAWING',\n",
        "    'SCISSORS',\n",
        "    'FLIP',\n",
        "    'PUSH&PULL',\n",
        "    'OPEN&CLOSE'\n",
        "]\n",
        "\n",
        "cm = confusion_matrix(Y_test2D, predicted_classes)\n",
        "plt.figure(figsize=(7, 5))\n",
        "sns.heatmap(cm, annot=True, xticklabels=LABELS, yticklabels=LABELS, cmap=\"YlGnBu\")"
      ],
      "execution_count": null,
      "outputs": [
        {
          "output_type": "execute_result",
          "data": {
            "text/plain": [
              "<matplotlib.axes._subplots.AxesSubplot at 0x7f163fdfe668>"
            ]
          },
          "metadata": {
            "tags": []
          },
          "execution_count": 413
        },
        {
          "output_type": "display_data",
          "data": {
            "image/png": "[encoded data removed]",
            "text/plain": [
              "<Figure size 504x360 with 2 Axes>"
            ]
          },
          "metadata": {
            "tags": [],
            "needs_background": "light"
          }
        }
      ]
    }
  ]
}