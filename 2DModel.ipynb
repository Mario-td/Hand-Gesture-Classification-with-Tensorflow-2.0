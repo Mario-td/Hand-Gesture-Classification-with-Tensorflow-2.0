{
  "nbformat": 4,
  "nbformat_minor": 0,
  "metadata": {
    "colab": {
      "name": "2DModel.ipynb",
      "provenance": [],
      "authorship_tag": "ABX9TyM2rBAqvcK20QIrFtalUat0",
      "include_colab_link": true
    },
    "kernelspec": {
      "name": "python3",
      "display_name": "Python 3"
    }
  },
  "cells": [
    {
      "cell_type": "markdown",
      "metadata": {
        "id": "view-in-github",
        "colab_type": "text"
      },
      "source": [
        "<a href=\"https://colab.research.google.com/github/Mario-td/HandGestureClassification/blob/master/2DModel.ipynb\" target=\"_parent\"><img src=\"https://colab.research.google.com/assets/colab-badge.svg\" alt=\"Open In Colab\"/></a>"
      ]
    },
    {
      "cell_type": "markdown",
      "metadata": {
        "id": "ZBOaERxKt6jz",
        "colab_type": "text"
      },
      "source": [
        "# **2D model selection**"
      ]
    },
    {
      "cell_type": "code",
      "metadata": {
        "colab_type": "code",
        "id": "k-CqOk56o0xL",
        "colab": {}
      },
      "source": [
        "import numpy as np\n",
        "import pandas as pd\n",
        "from sklearn.model_selection import train_test_split\n",
        "import matplotlib\n",
        "import matplotlib.pyplot as plt\n",
        "import tensorflow as tf  \n",
        "import time\n",
        "import datetime"
      ],
      "execution_count": null,
      "outputs": []
    },
    {
      "cell_type": "code",
      "metadata": {
        "id": "ZiK7HVUbg8WA",
        "colab_type": "code",
        "colab": {}
      },
      "source": [
        "from google.colab import drive\n",
        "drive.mount('/content/drive')"
      ],
      "execution_count": null,
      "outputs": []
    },
    {
      "cell_type": "code",
      "metadata": {
        "id": "UzFudcRhtxR3",
        "colab_type": "code",
        "colab": {}
      },
      "source": [
        "# Path to the files\n",
        "path = '/content/drive/My Drive/MastersThesis/Dataset/'\n",
        "data2D = pd.read_csv(path + '/HandGesture2D.csv')"
      ],
      "execution_count": null,
      "outputs": []
    },
    {
      "cell_type": "code",
      "metadata": {
        "id": "sVnRoqinhq0F",
        "colab_type": "code",
        "colab": {
          "base_uri": "https://localhost:8080/",
          "height": 34
        },
        "outputId": "cd5cca5d-f0d6-41f8-8b74-c2ec74913246"
      },
      "source": [
        "# Gets the number of frames per sample\n",
        "t_steps = max(data2D['Sequence']) + 1\n",
        "t_steps"
      ],
      "execution_count": null,
      "outputs": [
        {
          "output_type": "execute_result",
          "data": {
            "text/plain": [
              "32"
            ]
          },
          "metadata": {
            "tags": []
          },
          "execution_count": 122
        }
      ]
    },
    {
      "cell_type": "code",
      "metadata": {
        "id": "BSdg6PSbhyXE",
        "colab_type": "code",
        "colab": {
          "base_uri": "https://localhost:8080/",
          "height": 34
        },
        "outputId": "d7ad46e8-eb65-4a8f-fc9f-26d5e7bd0e47"
      },
      "source": [
        "# Gets the labels\n",
        "Y_ = np.array(data2D['Label'][0::t_steps][:], dtype=np.int32)\n",
        "Y_.size"
      ],
      "execution_count": null,
      "outputs": [
        {
          "output_type": "execute_result",
          "data": {
            "text/plain": [
              "13604"
            ]
          },
          "metadata": {
            "tags": []
          },
          "execution_count": 123
        }
      ]
    },
    {
      "cell_type": "code",
      "metadata": {
        "id": "X0842ivyhyeL",
        "colab_type": "code",
        "colab": {
          "base_uri": "https://localhost:8080/",
          "height": 34
        },
        "outputId": "1ee4f51a-d012-43f2-a4b1-2eddce817ecb"
      },
      "source": [
        "# Gets the data\n",
        "X_2D = pd.DataFrame.to_numpy(data2D[data2D.columns[2:]])\n",
        "# Splits into the number of samples\n",
        "X_2D = np.array(np.split(X_2D, Y_.size))\n",
        "X_2D.shape"
      ],
      "execution_count": null,
      "outputs": [
        {
          "output_type": "execute_result",
          "data": {
            "text/plain": [
              "(13604, 32, 42)"
            ]
          },
          "metadata": {
            "tags": []
          },
          "execution_count": 124
        }
      ]
    },
    {
      "cell_type": "code",
      "metadata": {
        "id": "3m2jTkBPhyji",
        "colab_type": "code",
        "colab": {}
      },
      "source": [
        "# Splits into training, and test set\n",
        "X_train2D, X_test2D, y_train2D, y_test2D = train_test_split(X_2D, Y_, test_size=0.2, random_state=42)"
      ],
      "execution_count": null,
      "outputs": []
    },
    {
      "cell_type": "code",
      "metadata": {
        "id": "1NcMIch7mE1M",
        "colab_type": "code",
        "colab": {
          "base_uri": "https://localhost:8080/",
          "height": 51
        },
        "outputId": "3529752e-8a7b-40d1-ad18-c50b7af09c41"
      },
      "source": [
        "print('X_train shape '+ str(X_train2D.shape))\n",
        "print('X_test shape '+ str(X_test2D.shape))"
      ],
      "execution_count": null,
      "outputs": [
        {
          "output_type": "stream",
          "text": [
            "X_train shape (10883, 32, 42)\n",
            "X_test shape (2721, 32, 42)\n"
          ],
          "name": "stdout"
        }
      ]
    },
    {
      "cell_type": "code",
      "metadata": {
        "colab_type": "code",
        "id": "eY9GJc1lpI1w",
        "colab": {
          "base_uri": "https://localhost:8080/",
          "height": 212
        },
        "outputId": "3d21f5ad-91f1-4b42-d62c-290e29c1b263"
      },
      "source": [
        "# Prints the number of samples per class in the training and test set\n",
        "n_classes = 5 \n",
        "for i in range(n_classes):\n",
        "  print('train samples %d: ' % i + str(np.count_nonzero(y_train2D == i)))\n",
        "print('----------------------')\n",
        "for i in range(n_classes):\n",
        "  print('test samples %d: ' % i + str(np.count_nonzero(y_test2D == i)))"
      ],
      "execution_count": null,
      "outputs": [
        {
          "output_type": "stream",
          "text": [
            "train samples 0: 2090\n",
            "train samples 1: 2164\n",
            "train samples 2: 2211\n",
            "train samples 3: 2140\n",
            "train samples 4: 2278\n",
            "----------------------\n",
            "test samples 0: 554\n",
            "test samples 1: 544\n",
            "test samples 2: 537\n",
            "test samples 3: 548\n",
            "test samples 4: 538\n"
          ],
          "name": "stdout"
        }
      ]
    },
    {
      "cell_type": "code",
      "metadata": {
        "id": "o-wcBdrjxJgg",
        "colab_type": "code",
        "colab": {}
      },
      "source": [
        "# Adjusts the label arrays shape\n",
        "y_train2D = tf.keras.utils.to_categorical(y_train2D, n_classes)\n",
        "y_test2D = tf.keras.utils.to_categorical(y_test2D, n_classes)"
      ],
      "execution_count": null,
      "outputs": []
    },
    {
      "cell_type": "code",
      "metadata": {
        "id": "ZLDvPtAuxqOw",
        "colab_type": "code",
        "colab": {}
      },
      "source": [
        "# Number of input parameters per timestep\n",
        "n_input2D = len(X_train2D[0][0]) \n",
        "# Reshapes the input splitting it into subsequences\n",
        "n_sub = 2\n",
        "n_length = (int) (t_steps / n_sub)\n",
        "X_train2D = X_train2D.reshape((X_train2D.shape[0], n_sub, n_length, n_input2D))\n",
        "X_test2D = X_test2D.reshape((X_test2D.shape[0], n_sub, n_length, n_input2D))"
      ],
      "execution_count": null,
      "outputs": []
    },
    {
      "cell_type": "code",
      "metadata": {
        "id": "xJia3ebAx_-B",
        "colab_type": "code",
        "colab": {}
      },
      "source": [
        "# Defines the model\n",
        "model_2D = tf.keras.Sequential()\n",
        "model_2D.add(tf.keras.layers.Conv1D(filters=64, kernel_size=3, activation='relu', input_shape=(n_sub, n_length,n_input2D)))\n",
        "model_2D.add(tf.keras.layers.Conv1D(filters=64, kernel_size=3, activation='relu'))\n",
        "model_2D.add(tf.keras.layers.Dropout(0.2))\n",
        "model_2D.add(tf.keras.layers.TimeDistributed(tf.keras.layers.MaxPooling1D(pool_size=2)))\n",
        "model_2D.add(tf.keras.layers.TimeDistributed(tf.keras.layers.Flatten()))\n",
        "model_2D.add(tf.keras.layers.LSTM(200))\n",
        "model_2D.add(tf.keras.layers.Dropout(0.2))\n",
        "model_2D.add(tf.keras.layers.Dense(n_classes, activation='softmax'))"
      ],
      "execution_count": null,
      "outputs": []
    },
    {
      "cell_type": "markdown",
      "metadata": {
        "id": "pqz0j8d3zgdN",
        "colab_type": "text"
      },
      "source": [
        "# **Model training**"
      ]
    },
    {
      "cell_type": "code",
      "metadata": {
        "id": "whHo7IXMqghK",
        "colab_type": "code",
        "colab": {
          "base_uri": "https://localhost:8080/",
          "height": 1000
        },
        "outputId": "eafedf75-8267-4fad-dcf3-b5e5ab6c28d5"
      },
      "source": [
        "# Hyperparameters\n",
        "batch_size = 1024\n",
        "n_epochs = 80\n",
        "opt = tf.keras.optimizers.Adam(learning_rate=0.0011, beta_1=0.9, beta_2=0.999, amsgrad=False)\n",
        "\n",
        "model_2D.compile(loss='categorical_crossentropy', optimizer= opt, metrics=['accuracy'])\n",
        "\n",
        "# Measures the training time\n",
        "t_start = time.time()\n",
        "history = model_2D.fit(X_train2D, y_train2D, shuffle=True, batch_size=batch_size, epochs=n_epochs)\n",
        "t_stop = time.time() \n",
        "print( \"Training time: \" + str(datetime.timedelta(seconds= t_stop - t_start)))"
      ],
      "execution_count": null,
      "outputs": [
        {
          "output_type": "stream",
          "text": [
            "Epoch 1/80\n",
            " 1/11 [=>............................] - ETA: 0s - loss: 1.7718 - accuracy: 0.2217WARNING:tensorflow:From /usr/local/lib/python3.6/dist-packages/tensorflow/python/ops/summary_ops_v2.py:1277: stop (from tensorflow.python.eager.profiler) is deprecated and will be removed after 2020-07-01.\n",
            "Instructions for updating:\n",
            "use `tf.profiler.experimental.stop` instead.\n",
            "11/11 [==============================] - 2s 189ms/step - loss: 1.6072 - accuracy: 0.2791\n",
            "Epoch 2/80\n",
            "11/11 [==============================] - 2s 185ms/step - loss: 1.4758 - accuracy: 0.3671\n",
            "Epoch 3/80\n",
            "11/11 [==============================] - 2s 184ms/step - loss: 1.3205 - accuracy: 0.4490\n",
            "Epoch 4/80\n",
            "11/11 [==============================] - 2s 184ms/step - loss: 1.1946 - accuracy: 0.5034\n",
            "Epoch 5/80\n",
            "11/11 [==============================] - 2s 186ms/step - loss: 1.0429 - accuracy: 0.5903\n",
            "Epoch 6/80\n",
            "11/11 [==============================] - 2s 186ms/step - loss: 0.8672 - accuracy: 0.6687\n",
            "Epoch 7/80\n",
            "11/11 [==============================] - 2s 184ms/step - loss: 0.7668 - accuracy: 0.7106\n",
            "Epoch 8/80\n",
            "11/11 [==============================] - 2s 183ms/step - loss: 0.7226 - accuracy: 0.7264\n",
            "Epoch 9/80\n",
            "11/11 [==============================] - 2s 184ms/step - loss: 0.6202 - accuracy: 0.7742\n",
            "Epoch 10/80\n",
            "11/11 [==============================] - 2s 185ms/step - loss: 0.5423 - accuracy: 0.8090\n",
            "Epoch 11/80\n",
            "11/11 [==============================] - 2s 185ms/step - loss: 0.4435 - accuracy: 0.8521\n",
            "Epoch 12/80\n",
            "11/11 [==============================] - 2s 186ms/step - loss: 0.4048 - accuracy: 0.8596\n",
            "Epoch 13/80\n",
            "11/11 [==============================] - 2s 185ms/step - loss: 0.3510 - accuracy: 0.8817\n",
            "Epoch 14/80\n",
            "11/11 [==============================] - 2s 187ms/step - loss: 0.2824 - accuracy: 0.9082\n",
            "Epoch 15/80\n",
            "11/11 [==============================] - 2s 185ms/step - loss: 0.2608 - accuracy: 0.9139\n",
            "Epoch 16/80\n",
            "11/11 [==============================] - 2s 185ms/step - loss: 0.2284 - accuracy: 0.9281\n",
            "Epoch 17/80\n",
            "11/11 [==============================] - 2s 187ms/step - loss: 0.1887 - accuracy: 0.9448\n",
            "Epoch 18/80\n",
            "11/11 [==============================] - 2s 186ms/step - loss: 0.1598 - accuracy: 0.9515\n",
            "Epoch 19/80\n",
            "11/11 [==============================] - 2s 185ms/step - loss: 0.1422 - accuracy: 0.9603\n",
            "Epoch 20/80\n",
            "11/11 [==============================] - 2s 186ms/step - loss: 0.1224 - accuracy: 0.9666\n",
            "Epoch 21/80\n",
            "11/11 [==============================] - 2s 186ms/step - loss: 0.1276 - accuracy: 0.9614\n",
            "Epoch 22/80\n",
            "11/11 [==============================] - 2s 186ms/step - loss: 0.0953 - accuracy: 0.9743\n",
            "Epoch 23/80\n",
            "11/11 [==============================] - 2s 185ms/step - loss: 0.1062 - accuracy: 0.9679\n",
            "Epoch 24/80\n",
            "11/11 [==============================] - 2s 186ms/step - loss: 0.1000 - accuracy: 0.9714\n",
            "Epoch 25/80\n",
            "11/11 [==============================] - 2s 186ms/step - loss: 0.0844 - accuracy: 0.9768\n",
            "Epoch 26/80\n",
            "11/11 [==============================] - 2s 186ms/step - loss: 0.0759 - accuracy: 0.9795\n",
            "Epoch 27/80\n",
            "11/11 [==============================] - 2s 191ms/step - loss: 0.0627 - accuracy: 0.9841\n",
            "Epoch 28/80\n",
            "11/11 [==============================] - 2s 191ms/step - loss: 0.0683 - accuracy: 0.9806\n",
            "Epoch 29/80\n",
            "11/11 [==============================] - 2s 192ms/step - loss: 0.0520 - accuracy: 0.9857\n",
            "Epoch 30/80\n",
            "11/11 [==============================] - 2s 189ms/step - loss: 0.0416 - accuracy: 0.9892\n",
            "Epoch 31/80\n",
            "11/11 [==============================] - 2s 184ms/step - loss: 0.0405 - accuracy: 0.9902\n",
            "Epoch 32/80\n",
            "11/11 [==============================] - 2s 181ms/step - loss: 0.0540 - accuracy: 0.9845\n",
            "Epoch 33/80\n",
            "11/11 [==============================] - 2s 182ms/step - loss: 0.0478 - accuracy: 0.9871\n",
            "Epoch 34/80\n",
            "11/11 [==============================] - 2s 184ms/step - loss: 0.0448 - accuracy: 0.9886\n",
            "Epoch 35/80\n",
            "11/11 [==============================] - 2s 183ms/step - loss: 0.0393 - accuracy: 0.9896\n",
            "Epoch 36/80\n",
            "11/11 [==============================] - 2s 180ms/step - loss: 0.0400 - accuracy: 0.9887\n",
            "Epoch 37/80\n",
            "11/11 [==============================] - 2s 182ms/step - loss: 0.0331 - accuracy: 0.9907\n",
            "Epoch 38/80\n",
            "11/11 [==============================] - 2s 180ms/step - loss: 0.0293 - accuracy: 0.9932\n",
            "Epoch 39/80\n",
            "11/11 [==============================] - 2s 183ms/step - loss: 0.0338 - accuracy: 0.9907\n",
            "Epoch 40/80\n",
            "11/11 [==============================] - 2s 181ms/step - loss: 0.1619 - accuracy: 0.9489\n",
            "Epoch 41/80\n",
            "11/11 [==============================] - 2s 181ms/step - loss: 0.2254 - accuracy: 0.9190\n",
            "Epoch 42/80\n",
            "11/11 [==============================] - 2s 182ms/step - loss: 0.1646 - accuracy: 0.9455\n",
            "Epoch 43/80\n",
            "11/11 [==============================] - 2s 181ms/step - loss: 0.0890 - accuracy: 0.9740\n",
            "Epoch 44/80\n",
            "11/11 [==============================] - 2s 182ms/step - loss: 0.0662 - accuracy: 0.9803\n",
            "Epoch 45/80\n",
            "11/11 [==============================] - 2s 181ms/step - loss: 0.0606 - accuracy: 0.9820\n",
            "Epoch 46/80\n",
            "11/11 [==============================] - 2s 181ms/step - loss: 0.0451 - accuracy: 0.9871\n",
            "Epoch 47/80\n",
            "11/11 [==============================] - 2s 183ms/step - loss: 0.0465 - accuracy: 0.9862\n",
            "Epoch 48/80\n",
            "11/11 [==============================] - 2s 182ms/step - loss: 0.0406 - accuracy: 0.9883\n",
            "Epoch 49/80\n",
            "11/11 [==============================] - 2s 182ms/step - loss: 0.0392 - accuracy: 0.9885\n",
            "Epoch 50/80\n",
            "11/11 [==============================] - 2s 181ms/step - loss: 0.0396 - accuracy: 0.9891\n",
            "Epoch 51/80\n",
            "11/11 [==============================] - 2s 185ms/step - loss: 0.0343 - accuracy: 0.9909\n",
            "Epoch 52/80\n",
            "11/11 [==============================] - 2s 182ms/step - loss: 0.0370 - accuracy: 0.9889\n",
            "Epoch 53/80\n",
            "11/11 [==============================] - 2s 181ms/step - loss: 0.0291 - accuracy: 0.9923\n",
            "Epoch 54/80\n",
            "11/11 [==============================] - 2s 181ms/step - loss: 0.0189 - accuracy: 0.9961\n",
            "Epoch 55/80\n",
            "11/11 [==============================] - 2s 180ms/step - loss: 0.0238 - accuracy: 0.9932\n",
            "Epoch 56/80\n",
            "11/11 [==============================] - 2s 181ms/step - loss: 0.0237 - accuracy: 0.9933\n",
            "Epoch 57/80\n",
            "11/11 [==============================] - 2s 182ms/step - loss: 0.0267 - accuracy: 0.9925\n",
            "Epoch 58/80\n",
            "11/11 [==============================] - 2s 183ms/step - loss: 0.0314 - accuracy: 0.9911\n",
            "Epoch 59/80\n",
            "11/11 [==============================] - 2s 183ms/step - loss: 0.0279 - accuracy: 0.9919\n",
            "Epoch 60/80\n",
            "11/11 [==============================] - 2s 181ms/step - loss: 0.0218 - accuracy: 0.9943\n",
            "Epoch 61/80\n",
            "11/11 [==============================] - 2s 182ms/step - loss: 0.0245 - accuracy: 0.9933\n",
            "Epoch 62/80\n",
            "11/11 [==============================] - 2s 183ms/step - loss: 0.0231 - accuracy: 0.9937\n",
            "Epoch 63/80\n",
            "11/11 [==============================] - 2s 182ms/step - loss: 0.0173 - accuracy: 0.9958\n",
            "Epoch 64/80\n",
            "11/11 [==============================] - 2s 183ms/step - loss: 0.0171 - accuracy: 0.9955\n",
            "Epoch 65/80\n",
            "11/11 [==============================] - 2s 184ms/step - loss: 0.0140 - accuracy: 0.9965\n",
            "Epoch 66/80\n",
            "11/11 [==============================] - 2s 185ms/step - loss: 0.0110 - accuracy: 0.9968\n",
            "Epoch 67/80\n",
            "11/11 [==============================] - 2s 183ms/step - loss: 0.0083 - accuracy: 0.9990\n",
            "Epoch 68/80\n",
            "11/11 [==============================] - 2s 183ms/step - loss: 0.0083 - accuracy: 0.9984\n",
            "Epoch 69/80\n",
            "11/11 [==============================] - 2s 183ms/step - loss: 0.0088 - accuracy: 0.9984\n",
            "Epoch 70/80\n",
            "11/11 [==============================] - 2s 183ms/step - loss: 0.0101 - accuracy: 0.9981\n",
            "Epoch 71/80\n",
            "11/11 [==============================] - 2s 183ms/step - loss: 0.0477 - accuracy: 0.9847\n",
            "Epoch 72/80\n",
            "11/11 [==============================] - 2s 184ms/step - loss: 0.0360 - accuracy: 0.9890\n",
            "Epoch 73/80\n",
            "11/11 [==============================] - 2s 184ms/step - loss: 0.0222 - accuracy: 0.9943\n",
            "Epoch 74/80\n",
            "11/11 [==============================] - 2s 183ms/step - loss: 0.0169 - accuracy: 0.9958\n",
            "Epoch 75/80\n",
            "11/11 [==============================] - 2s 183ms/step - loss: 0.0117 - accuracy: 0.9971\n",
            "Epoch 76/80\n",
            "11/11 [==============================] - 2s 183ms/step - loss: 0.0108 - accuracy: 0.9973\n",
            "Epoch 77/80\n",
            "11/11 [==============================] - 2s 182ms/step - loss: 0.0097 - accuracy: 0.9975\n",
            "Epoch 78/80\n",
            "11/11 [==============================] - 2s 183ms/step - loss: 0.0083 - accuracy: 0.9985\n",
            "Epoch 79/80\n",
            "11/11 [==============================] - 2s 183ms/step - loss: 0.0078 - accuracy: 0.9986\n",
            "Epoch 80/80\n",
            "11/11 [==============================] - 2s 183ms/step - loss: 0.0073 - accuracy: 0.9987\n",
            "Training time: 0:03:00.939827\n"
          ],
          "name": "stdout"
        }
      ]
    },
    {
      "cell_type": "code",
      "metadata": {
        "id": "qqVGtMfkuL08",
        "colab_type": "code",
        "colab": {
          "base_uri": "https://localhost:8080/",
          "height": 573
        },
        "outputId": "414cc234-a50a-47a4-f36b-cee2f3cc417a"
      },
      "source": [
        "# Summarizes history for accuracy\n",
        "plt.plot(history.history['accuracy']) \n",
        "plt.title('model accuracy') \n",
        "plt.ylabel('accuracy') \n",
        "plt.xlabel('epoch') \n",
        "plt.legend(['train', 'val'], loc='upper left')\n",
        "plt.show()\n",
        "\n",
        "# Summarizes history for loss\n",
        "plt.plot(history.history['loss'])\n",
        "plt.title('model loss')\n",
        "plt.ylabel('loss')\n",
        "plt.xlabel('epoch')\n",
        "plt.legend(['train', 'val'], loc='upper left')\n",
        "plt.show()"
      ],
      "execution_count": null,
      "outputs": [
        {
          "output_type": "display_data",
          "data": {
            "image/png": "[encoded data removed]",
            "text/plain": [
              "<Figure size 432x288 with 1 Axes>"
            ]
          },
          "metadata": {
            "tags": [],
            "needs_background": "light"
          }
        },
        {
          "output_type": "display_data",
          "data": {
            "image/png": "[encoded data removed]",
            "text/plain": [
              "<Figure size 432x288 with 1 Axes>"
            ]
          },
          "metadata": {
            "tags": [],
            "needs_background": "light"
          }
        }
      ]
    },
    {
      "cell_type": "markdown",
      "metadata": {
        "id": "H7lbGIwozqUz",
        "colab_type": "text"
      },
      "source": [
        "# **Model evaluation**"
      ]
    },
    {
      "cell_type": "code",
      "metadata": {
        "id": "yZj_o7vou4Y2",
        "colab_type": "code",
        "colab": {
          "base_uri": "https://localhost:8080/",
          "height": 51
        },
        "outputId": "bced66a3-abb0-494a-8a53-d7f9254802c4"
      },
      "source": [
        "# Evaluates the model with the test set\n",
        "model_2D.evaluate(X_test2D, y_test2D)"
      ],
      "execution_count": null,
      "outputs": [
        {
          "output_type": "stream",
          "text": [
            "86/86 [==============================] - 0s 5ms/step - loss: 0.0141 - accuracy: 0.9978\n"
          ],
          "name": "stdout"
        },
        {
          "output_type": "execute_result",
          "data": {
            "text/plain": [
              "[0.014063396491110325, 0.9977949261665344]"
            ]
          },
          "metadata": {
            "tags": []
          },
          "execution_count": 135
        }
      ]
    },
    {
      "cell_type": "code",
      "metadata": {
        "id": "_7aotvDFvO_M",
        "colab_type": "code",
        "colab": {}
      },
      "source": [
        "predicted_classes = model_2D.predict_classes(X_test2D) \n",
        "# Sets the actual test label with the same format\n",
        "y_test2D = y_test2D.argmax(1)"
      ],
      "execution_count": null,
      "outputs": []
    },
    {
      "cell_type": "code",
      "metadata": {
        "id": "LiGLvr3avTub",
        "colab_type": "code",
        "colab": {
          "base_uri": "https://localhost:8080/",
          "height": 394
        },
        "outputId": "92c2f0bf-18cf-486d-9607-c3740fe2be42"
      },
      "source": [
        "from sklearn.metrics import confusion_matrix\n",
        "import seaborn as sns\n",
        "\n",
        "# Label of the classes\n",
        "LABELS = [    \n",
        "    'WAWING',\n",
        "    'SCISSORS',\n",
        "    'FLIP',\n",
        "    'PUSH&PULL',\n",
        "    'OPEN&CLOSE'\n",
        "] \n",
        "\n",
        "cm = confusion_matrix(y_test2D, predicted_classes)\n",
        "cm\n",
        "plt.figure(figsize = (7, 5))\n",
        "sns.heatmap(cm, annot = True, xticklabels = LABELS, yticklabels = LABELS, cmap=\"YlGnBu\")"
      ],
      "execution_count": null,
      "outputs": [
        {
          "output_type": "execute_result",
          "data": {
            "text/plain": [
              "<matplotlib.axes._subplots.AxesSubplot at 0x7fc445256400>"
            ]
          },
          "metadata": {
            "tags": []
          },
          "execution_count": 143
        },
        {
          "output_type": "display_data",
          "data": {
            "image/png": "[encoded data removed]",
            "text/plain": [
              "<Figure size 504x360 with 2 Axes>"
            ]
          },
          "metadata": {
            "tags": [],
            "needs_background": "light"
          }
        }
      ]
    },
    {
      "cell_type": "code",
      "metadata": {
        "id": "D-zXzDuxmBV_",
        "colab_type": "code",
        "colab": {}
      },
      "source": [
        "# Saves the parameters\n",
        "model_2D.save_weights(path + 'WEIGHTS-2D.ckpt')\n",
        "model_2D.save(path + 'MODEL-2D.h5')"
      ],
      "execution_count": null,
      "outputs": []
    }
  ]
}